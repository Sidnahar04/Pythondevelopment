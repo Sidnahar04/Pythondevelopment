{
 "cells": [
  {
   "cell_type": "code",
   "execution_count": 2,
   "id": "02bd0be6",
   "metadata": {},
   "outputs": [
    {
     "name": "stdout",
     "output_type": "stream",
     "text": [
      "['198', '202', '1']\n"
     ]
    }
   ],
   "source": [
    "import re\n",
    "my_input=\"india scored 198 runs against SRI Lanka in 2021\"\n",
    "my_output=re.findall(\"\\d{1,3}\",my_input)    #group of 3\n",
    "print(my_output)"
   ]
  },
  {
   "cell_type": "code",
   "execution_count": 4,
   "id": "20f5d5f8",
   "metadata": {},
   "outputs": [
    {
     "name": "stdout",
     "output_type": "stream",
     "text": [
      "['198', '202']\n"
     ]
    }
   ],
   "source": [
    "import re\n",
    "my_input=\"india scored 198 runs against SRI Lanka in 2021\"\n",
    "my_output=re.findall(\"\\d{3}\",my_input)    \n",
    "print(my_output)"
   ]
  },
  {
   "cell_type": "code",
   "execution_count": 11,
   "id": "3fb0385c",
   "metadata": {},
   "outputs": [
    {
     "name": "stdout",
     "output_type": "stream",
     "text": [
      "['india', ' scor', '  @ru', 'ns  &', ' agai', 'nst S', 'RI  #', '# Lan', 'ka in']\n"
     ]
    }
   ],
   "source": [
    "import re\n",
    "my_input=\"india scored 198  @runs  & against SRI  ## Lanka in 2021\"\n",
    "my_output=re.findall(\"\\D{5}\",my_input)      #D means except integers\n",
    "print(my_output)"
   ]
  },
  {
   "cell_type": "code",
   "execution_count": 15,
   "id": "611e3e0d",
   "metadata": {},
   "outputs": [
    {
     "name": "stdout",
     "output_type": "stream",
     "text": [
      "['i', 'n', 'd', 'i', 'a', 's', 'c', 'o', 'r', 'e', 'd', '1', '9', '8', 'r', 'u', 'n', 's', 'a', 'g', 'a', 'i', 'n', 's', 't', 'S', 'R', 'I', 'L', 'a', 'n', 'k', 'a', 'i', 'n', '2', '0', '2', '1']\n"
     ]
    }
   ],
   "source": [
    "import re\n",
    "my_input=\"india scored  $$198 !!! runs against  ##SRI Lanka in 2021\"\n",
    "my_output=re.findall(\"\\w\",my_input)    #everything except special chracters\n",
    "print(my_output)"
   ]
  },
  {
   "cell_type": "code",
   "execution_count": 14,
   "id": "732ccbb3",
   "metadata": {},
   "outputs": [
    {
     "name": "stdout",
     "output_type": "stream",
     "text": [
      "['india', '', 'scored', '', '', '', '', '198', '', '', '', '', '', 'runs', '', 'against', '', '', '', '', 'SRI', '', 'Lanka', '', 'in', '', '2021', '']\n"
     ]
    }
   ],
   "source": [
    "import re\n",
    "my_input=\"india scored  $$198 !!! runs against  ##SRI Lanka in 2021\"\n",
    "my_output=re.findall(\"\\w*\",my_input)    #space at  special chracters\n",
    "print(my_output)"
   ]
  },
  {
   "cell_type": "code",
   "execution_count": 16,
   "id": "40e7c3dd",
   "metadata": {},
   "outputs": [
    {
     "name": "stdout",
     "output_type": "stream",
     "text": [
      "['india', 'scored', '198', 'runs', 'against', 'SRI', 'Lanka', 'in', '2021']\n"
     ]
    }
   ],
   "source": [
    "import re\n",
    "my_input=\"india scored  $$198 !!! runs against  ##SRI Lanka in 2021\"\n",
    "my_output=re.findall(\"\\w+\",my_input)    #no special chracters\n",
    "print(my_output)"
   ]
  },
  {
   "cell_type": "code",
   "execution_count": 18,
   "id": "5f0b91b9",
   "metadata": {},
   "outputs": [
    {
     "name": "stdout",
     "output_type": "stream",
     "text": [
      "[' ', ' ', ' ', '$', '$', ' ', '!', '!', '!', ' ', ' ', ' ', ' ', '#', '#', ' ', ' ', ' ']\n"
     ]
    }
   ],
   "source": [
    "import re\n",
    "my_input=\"india scored  $$198 !!! runs against  ##SRI Lanka in 2021\"\n",
    "my_output=re.findall(\"\\W\",my_input)    #special characters only\n",
    "print(my_output)"
   ]
  },
  {
   "cell_type": "code",
   "execution_count": 19,
   "id": "404d7067",
   "metadata": {},
   "outputs": [
    {
     "name": "stdout",
     "output_type": "stream",
     "text": [
      "['', '', '', '', '', ' ', '', '', '', '', '', '', '  $$', '', '', '', ' !!! ', '', '', '', '', ' ', '', '', '', '', '', '', '', '  ##', '', '', '', ' ', '', '', '', '', '', ' ', '', '', ' ', '', '', '', '', '']\n"
     ]
    }
   ],
   "source": [
    "import re\n",
    "my_input=\"india scored  $$198 !!! runs against  ##SRI Lanka in 2021\"\n",
    "my_output=re.findall(\"\\W*\",my_input)    #special chracters others with space or blank\n",
    "print(my_output)"
   ]
  },
  {
   "cell_type": "code",
   "execution_count": 21,
   "id": "7c2a85f0",
   "metadata": {},
   "outputs": [
    {
     "name": "stdout",
     "output_type": "stream",
     "text": [
      "[' ', '  $$', ' !!! ', ' ', '  ##', ' ', ' ', ' ']\n"
     ]
    }
   ],
   "source": [
    "import re\n",
    "my_input=\"india scored  $$198 !!! runs against  ##SRI Lanka in 2021\"\n",
    "my_output=re.findall(\"\\W+\",my_input)    #only  special chracters but others space\n",
    "print(my_output)"
   ]
  },
  {
   "cell_type": "code",
   "execution_count": 23,
   "id": "16e88830",
   "metadata": {},
   "outputs": [
    {
     "name": "stdout",
     "output_type": "stream",
     "text": [
      "['india', 'scored', '198', 'runs', 'against', 'SRI', 'Lanka', 'in', '2021']\n"
     ]
    }
   ],
   "source": [
    "my_compiler=re.compile(\"\\w+\")\n",
    "my_output=my_compiler.findall(my_input)\n",
    "print(my_output)"
   ]
  },
  {
   "cell_type": "code",
   "execution_count": 28,
   "id": "b43e461f",
   "metadata": {},
   "outputs": [
    {
     "name": "stdout",
     "output_type": "stream",
     "text": [
      "indiA scored  $$198 !!! runs AgAinst  ##SRI LAnkA in 2021\n"
     ]
    }
   ],
   "source": [
    "my_output=re.sub(\"a\",\"A\",my_input)\n",
    "print(my_output)         "
   ]
  },
  {
   "cell_type": "code",
   "execution_count": 29,
   "id": "c0a26dcf",
   "metadata": {},
   "outputs": [
    {
     "name": "stdout",
     "output_type": "stream",
     "text": [
      "india8scored888819888888runs8against8888SRI8Lanka8in82021\n"
     ]
    }
   ],
   "source": [
    "my_output=re.sub(\"\\W\",\"8\",my_input)  #substitute\n",
    "print(my_output)     #at special character8 is replaced"
   ]
  },
  {
   "cell_type": "code",
   "execution_count": 30,
   "id": "88e31d54",
   "metadata": {},
   "outputs": [
    {
     "name": "stdout",
     "output_type": "stream",
     "text": [
      "['india', 'scored', '', '', '', '198', '', '', '', '', 'runs', 'against', '', '', '', 'SRI', 'Lanka', 'in', '2021']\n"
     ]
    }
   ],
   "source": [
    "my_output=re.split(\"\\W\",my_input)\n",
    "print(my_output)     #split at special character"
   ]
  },
  {
   "cell_type": "code",
   "execution_count": 5,
   "id": "2374baf1",
   "metadata": {},
   "outputs": [
    {
     "name": "stdout",
     "output_type": "stream",
     "text": [
      "['8']\n"
     ]
    }
   ],
   "source": [
    "x=\"I am learning py @ python-language!! on 8 pm\"\n",
    "out=re.findall(\"\\d+\",x)                \n",
    "print(out)"
   ]
  },
  {
   "cell_type": "code",
   "execution_count": 7,
   "id": "d5b0413a",
   "metadata": {},
   "outputs": [
    {
     "name": "stdout",
     "output_type": "stream",
     "text": [
      "['I ', ' ', ' ', ' @ ', '-', '!! ', ' 8 ', '']\n"
     ]
    }
   ],
   "source": [
    "out=re.split(\"[a-z]+\",x)\n",
    "print(out)"
   ]
  },
  {
   "cell_type": "code",
   "execution_count": 46,
   "id": "cc79a636",
   "metadata": {},
   "outputs": [
    {
     "name": "stdout",
     "output_type": "stream",
     "text": [
      "I am learning ** @ **thon-language!! on 8 pm\n"
     ]
    }
   ],
   "source": [
    "out=re.sub(\"py\",\"**\",x)\n",
    "print(out)"
   ]
  },
  {
   "cell_type": "code",
   "execution_count": 47,
   "id": "98ca7aa1",
   "metadata": {},
   "outputs": [
    {
     "name": "stdout",
     "output_type": "stream",
     "text": [
      "rahul & rohit are going to party or they will study\n",
      "rahul and rohit are going to party | they will study\n"
     ]
    }
   ],
   "source": [
    "y=\"rahul and rohit are going to party or they will study\"\n",
    "out1=re.sub(\"and\",\"&\",y)\n",
    "out2=re.sub(\"or\",\"|\",y)\n",
    "print(out1)\n",
    "print(out2)"
   ]
  }
 ],
 "metadata": {
  "kernelspec": {
   "display_name": "Python 3",
   "language": "python",
   "name": "python3"
  },
  "language_info": {
   "codemirror_mode": {
    "name": "ipython",
    "version": 3
   },
   "file_extension": ".py",
   "mimetype": "text/x-python",
   "name": "python",
   "nbconvert_exporter": "python",
   "pygments_lexer": "ipython3",
   "version": "3.8.8"
  }
 },
 "nbformat": 4,
 "nbformat_minor": 5
}
