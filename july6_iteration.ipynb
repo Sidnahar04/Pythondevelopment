{
 "cells": [
  {
   "cell_type": "code",
   "execution_count": 3,
   "id": "531158bf",
   "metadata": {},
   "outputs": [],
   "source": [
    "my_string=\"Dhoni is a captain\""
   ]
  },
  {
   "cell_type": "code",
   "execution_count": 4,
   "id": "91efc4d9",
   "metadata": {},
   "outputs": [
    {
     "name": "stdout",
     "output_type": "stream",
     "text": [
      "D\n",
      "h\n",
      "o\n",
      "n\n",
      "i\n",
      " \n",
      "i\n",
      "s\n",
      " \n",
      "a\n",
      " \n",
      "c\n",
      "a\n",
      "p\n",
      "t\n",
      "a\n",
      "i\n",
      "n\n"
     ]
    }
   ],
   "source": [
    "for x in my_string:\n",
    "    print(x)"
   ]
  },
  {
   "cell_type": "code",
   "execution_count": 5,
   "id": "a0bc5259",
   "metadata": {},
   "outputs": [
    {
     "name": "stdout",
     "output_type": "stream",
     "text": [
      "Dhoni is a captain"
     ]
    }
   ],
   "source": [
    "#end is used to print horizontally.\n",
    "for x in my_string:\n",
    "    print(x,end=\"\")"
   ]
  },
  {
   "cell_type": "code",
   "execution_count": 7,
   "id": "a9f7e3c5",
   "metadata": {},
   "outputs": [
    {
     "name": "stdout",
     "output_type": "stream",
     "text": [
      "D*h*o*n*i* *i*s* *a* *c*a*p*t*a*i*n*"
     ]
    }
   ],
   "source": [
    "#end * is used and after every print * is printed.\n",
    "for x in my_string:\n",
    "    print(x,end=\"*\")"
   ]
  },
  {
   "cell_type": "code",
   "execution_count": 8,
   "id": "18d9132d",
   "metadata": {},
   "outputs": [
    {
     "name": "stdout",
     "output_type": "stream",
     "text": [
      "(0, 'D')\n",
      "(1, 'h')\n",
      "(2, 'o')\n",
      "(3, 'n')\n",
      "(4, 'i')\n",
      "(5, ' ')\n",
      "(6, 'i')\n",
      "(7, 's')\n",
      "(8, ' ')\n",
      "(9, 'a')\n",
      "(10, ' ')\n",
      "(11, 'c')\n",
      "(12, 'a')\n",
      "(13, 'p')\n",
      "(14, 't')\n",
      "(15, 'a')\n",
      "(16, 'i')\n",
      "(17, 'n')\n"
     ]
    }
   ],
   "source": [
    "for x in enumerate(my_string):\n",
    "    print(x)"
   ]
  },
  {
   "cell_type": "code",
   "execution_count": 13,
   "id": "42158010",
   "metadata": {},
   "outputs": [
    {
     "name": "stdout",
     "output_type": "stream",
     "text": [
      "D\n",
      "h\n",
      "o\n",
      "n\n",
      "i\n",
      " \n",
      "i\n",
      "s\n",
      " \n",
      "a\n",
      " \n",
      "c\n",
      "a\n",
      "p\n",
      "t\n",
      "a\n",
      "i\n",
      "n\n"
     ]
    }
   ],
   "source": [
    "for x,y in enumerate(my_string):\n",
    "    print(y)\n",
    "    "
   ]
  },
  {
   "cell_type": "code",
   "execution_count": 19,
   "id": "1586c9ce",
   "metadata": {},
   "outputs": [
    {
     "name": "stdout",
     "output_type": "stream",
     "text": [
      "D undone\n",
      "h undone\n",
      "o undone\n",
      "n undone\n",
      "i Done\n",
      "  undone\n",
      "i Done\n",
      "s undone\n",
      "  undone\n",
      "a undone\n",
      "  undone\n",
      "c undone\n",
      "a undone\n",
      "p undone\n",
      "t undone\n",
      "a undone\n",
      "i Done\n",
      "n undone\n"
     ]
    }
   ],
   "source": [
    "for x in my_string:\n",
    "    if x==\"i\":\n",
    "        print(x,\"Done\")\n",
    "    else:\n",
    "        print(x,\"undone\")"
   ]
  },
  {
   "cell_type": "code",
   "execution_count": 20,
   "id": "bb6a9878",
   "metadata": {},
   "outputs": [
    {
     "name": "stdout",
     "output_type": "stream",
     "text": [
      "D undone\n",
      "h undone\n",
      "o undone\n",
      "n Done Again\n",
      "i Done\n",
      "  undone\n",
      "i Done\n",
      "s undone\n",
      "  undone\n",
      "a undone\n",
      "  undone\n",
      "c undone\n",
      "a undone\n",
      "p undone\n",
      "t undone\n",
      "a undone\n",
      "i Done\n",
      "n Done Again\n"
     ]
    }
   ],
   "source": [
    "for x in my_string:\n",
    "    if x==\"i\":\n",
    "        print(x,\"Done\")\n",
    "    elif x==\"n\":\n",
    "        print(x,\"Done Again\")\n",
    "    else:\n",
    "        print(x,\"undone\")"
   ]
  },
  {
   "cell_type": "code",
   "execution_count": 23,
   "id": "596be502",
   "metadata": {},
   "outputs": [
    {
     "name": "stdout",
     "output_type": "stream",
     "text": [
      "0 fail\n",
      "1 fail\n",
      "2 fail\n",
      "3 success\n",
      "4 success\n",
      "5 fail\n",
      "6 success\n",
      "7 fail\n",
      "8 fail\n",
      "9 fail\n",
      "10 fail\n",
      "11 fail\n",
      "12 fail\n",
      "13 fail\n",
      "14 fail\n",
      "15 fail\n",
      "16 success\n",
      "17 success\n"
     ]
    }
   ],
   "source": [
    "for x,y in enumerate (my_string):\n",
    "    if y==\"i\":\n",
    "        print(x,\"success\")\n",
    "    elif y==\"n\":\n",
    "        print(x,\"success\")\n",
    "    else:\n",
    "        print(x,\"fail\")"
   ]
  },
  {
   "cell_type": "code",
   "execution_count": 26,
   "id": "2091a78c",
   "metadata": {},
   "outputs": [
    {
     "name": "stdout",
     "output_type": "stream",
     "text": [
      "0 D even\n",
      "1 h odd\n",
      "2 o even\n",
      "3 n odd\n",
      "4 i even\n",
      "5   odd\n",
      "6 i even\n",
      "7 s odd\n",
      "8   even\n",
      "9 a odd\n",
      "10   even\n",
      "11 c odd\n",
      "12 a even\n",
      "13 p odd\n",
      "14 t even\n",
      "15 a odd\n",
      "16 i even\n",
      "17 n odd\n"
     ]
    }
   ],
   "source": [
    "for x,y in enumerate(my_string):\n",
    "    if x%2==0:\n",
    "        print(x,y,\"even\")\n",
    "    else:\n",
    "        print(x,y,\"odd\")\n",
    "        "
   ]
  },
  {
   "cell_type": "code",
   "execution_count": null,
   "id": "82f2de61",
   "metadata": {},
   "outputs": [],
   "source": []
  }
 ],
 "metadata": {
  "kernelspec": {
   "display_name": "Python 3",
   "language": "python",
   "name": "python3"
  },
  "language_info": {
   "codemirror_mode": {
    "name": "ipython",
    "version": 3
   },
   "file_extension": ".py",
   "mimetype": "text/x-python",
   "name": "python",
   "nbconvert_exporter": "python",
   "pygments_lexer": "ipython3",
   "version": "3.8.8"
  }
 },
 "nbformat": 4,
 "nbformat_minor": 5
}
