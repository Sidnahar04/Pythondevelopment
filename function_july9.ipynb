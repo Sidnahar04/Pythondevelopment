{
 "cells": [
  {
   "cell_type": "code",
   "execution_count": null,
   "id": "b4e53271",
   "metadata": {},
   "outputs": [],
   "source": [
    "#local and global scope\n"
   ]
  },
  {
   "cell_type": "code",
   "execution_count": 2,
   "id": "4a8b70f1",
   "metadata": {},
   "outputs": [
    {
     "name": "stdout",
     "output_type": "stream",
     "text": [
      "10\n"
     ]
    }
   ],
   "source": [
    "a=10\n",
    "def fun():\n",
    "    print(a)\n",
    "    \n",
    "fun()"
   ]
  },
  {
   "cell_type": "code",
   "execution_count": 4,
   "id": "d9f5318f",
   "metadata": {},
   "outputs": [
    {
     "name": "stdout",
     "output_type": "stream",
     "text": [
      "100\n"
     ]
    }
   ],
   "source": [
    "b=10\n",
    "def fun():\n",
    "    b=100  #local variable is printed\n",
    "    print(b)\n",
    "    \n",
    "fun()"
   ]
  },
  {
   "cell_type": "code",
   "execution_count": 6,
   "id": "bff8d0f8",
   "metadata": {},
   "outputs": [
    {
     "name": "stdout",
     "output_type": "stream",
     "text": [
      "100\n",
      "10\n"
     ]
    }
   ],
   "source": [
    "b=10\n",
    "def fun():\n",
    "    b=100  #local variable is printed\n",
    "    print(b)\n",
    "    \n",
    "fun()\n",
    "print(b)  #both local and global are printed"
   ]
  },
  {
   "cell_type": "code",
   "execution_count": 2,
   "id": "60dc294a",
   "metadata": {},
   "outputs": [
    {
     "name": "stdout",
     "output_type": "stream",
     "text": [
      "110\n",
      "110\n"
     ]
    }
   ],
   "source": [
    "c=10\n",
    "def fun():\n",
    "    global c\n",
    "    c=c+100\n",
    "    print(c)\n",
    "    \n",
    "fun()\n",
    "print(c)\n"
   ]
  },
  {
   "cell_type": "code",
   "execution_count": 13,
   "id": "df00458b",
   "metadata": {},
   "outputs": [
    {
     "name": "stdout",
     "output_type": "stream",
     "text": [
      "1000\n"
     ]
    }
   ],
   "source": [
    "d=1000\n",
    "def fun():\n",
    "    #d=10\n",
    "    def new():\n",
    "        #d=100\n",
    "        print(d)\n",
    "    new()\n",
    "\n",
    "fun()\n",
    "#it will perofom according to leg local,enclosed,global."
   ]
  },
  {
   "cell_type": "code",
   "execution_count": 24,
   "id": "8ee4399a",
   "metadata": {},
   "outputs": [
    {
     "name": "stdout",
     "output_type": "stream",
     "text": [
      "hello\n",
      "hello\n",
      "hello\n",
      "hello\n",
      "hello\n",
      "hello\n",
      "hello\n",
      "hello\n",
      "hello\n",
      "hello\n"
     ]
    }
   ],
   "source": [
    "def fun():\n",
    "    x=\"hello\"\n",
    "    def fun1():\n",
    "        for i in range(10):\n",
    "            print(x)\n",
    "    fun1()\n",
    "fun()\n",
    "        "
   ]
  },
  {
   "cell_type": "code",
   "execution_count": 30,
   "id": "c1757d74",
   "metadata": {},
   "outputs": [
    {
     "name": "stdout",
     "output_type": "stream",
     "text": [
      "[4, 16, 36, 64]\n"
     ]
    }
   ],
   "source": [
    "var=[2,4,6,8]\n",
    "my_output=[]\n",
    "def double(arg):\n",
    "    output=arg*arg\n",
    "    return output\n",
    "for x in var:\n",
    "    my_returned_output=double(x)\n",
    "    my_output.append(my_returned_output)\n",
    "    \n",
    "print(my_output)"
   ]
  },
  {
   "cell_type": "code",
   "execution_count": 33,
   "id": "017501b0",
   "metadata": {},
   "outputs": [
    {
     "name": "stdout",
     "output_type": "stream",
     "text": [
      "[4, 16, 36, 64]\n"
     ]
    }
   ],
   "source": [
    "var1=[2,4,6,8]\n",
    "def double(arg):\n",
    "    output=arg*arg\n",
    "    return output\n",
    "my_output=map(double,var) #map function is used for sequential data.\n",
    "print(list(my_output))"
   ]
  },
  {
   "cell_type": "code",
   "execution_count": 35,
   "id": "a0ff4820",
   "metadata": {},
   "outputs": [
    {
     "name": "stdout",
     "output_type": "stream",
     "text": [
      "9\n",
      "9\n"
     ]
    }
   ],
   "source": [
    "#lamda or anaonymous function\n",
    "#conventional method\n",
    "def double(var):\n",
    "    output=var*var\n",
    "    return output\n",
    "output=double(3)\n",
    "print(output)\n",
    "\n",
    "\n",
    "double=lambda var:var*var\n",
    "print(double(3))"
   ]
  },
  {
   "cell_type": "code",
   "execution_count": 11,
   "id": "d8ba4894",
   "metadata": {},
   "outputs": [
    {
     "name": "stdout",
     "output_type": "stream",
     "text": [
      "hello 0\n",
      "hello 1\n",
      "hello 2\n",
      "hello 3\n",
      "hello 4\n",
      "hello 5\n",
      "hello 6\n",
      "hello 7\n",
      "hello 8\n",
      "hello 9\n",
      "hello 10\n"
     ]
    }
   ],
   "source": [
    "count=0\n",
    "def fun():\n",
    "    global count\n",
    "    if count<=10:\n",
    "        print(\"hello\",count)\n",
    "        count+=1\n",
    "        fun()\n",
    "fun()"
   ]
  }
 ],
 "metadata": {
  "kernelspec": {
   "display_name": "Python 3",
   "language": "python",
   "name": "python3"
  },
  "language_info": {
   "codemirror_mode": {
    "name": "ipython",
    "version": 3
   },
   "file_extension": ".py",
   "mimetype": "text/x-python",
   "name": "python",
   "nbconvert_exporter": "python",
   "pygments_lexer": "ipython3",
   "version": "3.8.8"
  }
 },
 "nbformat": 4,
 "nbformat_minor": 5
}
