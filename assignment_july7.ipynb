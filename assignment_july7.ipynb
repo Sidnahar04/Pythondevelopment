{
 "cells": [
  {
   "cell_type": "code",
   "execution_count": 1,
   "id": "cd9f28f2",
   "metadata": {},
   "outputs": [],
   "source": [
    "# var=[\"dhoni\",\"ashwin\",\"virat\",4,2,1,7]\n",
    "# output=[\"inohd\",\"niwhsa\",\"travi\",1,2,4,7]"
   ]
  },
  {
   "cell_type": "code",
   "execution_count": null,
   "id": "be5f11bd",
   "metadata": {},
   "outputs": [],
   "source": [
    "var=[\"dhoni\",\"ashwin\",\"virat\",4,2,1,7]"
   ]
  },
  {
   "cell_type": "code",
   "execution_count": 6,
   "id": "410b3aa7",
   "metadata": {},
   "outputs": [
    {
     "data": {
      "text/plain": [
       "['dhoni', 'ashwin', 'virat']"
      ]
     },
     "execution_count": 6,
     "metadata": {},
     "output_type": "execute_result"
    }
   ],
   "source": [
    "list1=var[0:3]\n",
    "list1\n"
   ]
  },
  {
   "cell_type": "code",
   "execution_count": 7,
   "id": "9b86ecdc",
   "metadata": {},
   "outputs": [
    {
     "data": {
      "text/plain": [
       "[4, 2, 1, 7]"
      ]
     },
     "execution_count": 7,
     "metadata": {},
     "output_type": "execute_result"
    }
   ],
   "source": [
    "list2=var[3:]\n",
    "list2"
   ]
  },
  {
   "cell_type": "code",
   "execution_count": 10,
   "id": "95d5e0d8",
   "metadata": {},
   "outputs": [
    {
     "data": {
      "text/plain": [
       "[1, 2, 4, 7]"
      ]
     },
     "execution_count": 10,
     "metadata": {},
     "output_type": "execute_result"
    }
   ],
   "source": [
    "list2.sort()\n",
    "list2"
   ]
  },
  {
   "cell_type": "code",
   "execution_count": 14,
   "id": "5d93c77e",
   "metadata": {},
   "outputs": [
    {
     "name": "stdout",
     "output_type": "stream",
     "text": [
      "['inohd', 'niwhsa', 'tariv']\n"
     ]
    }
   ],
   "source": [
    "new_list=[]\n",
    "for x in list1:\n",
    "    y=x[::-1]\n",
    "    new_list.append(y)\n",
    "print(new_list)"
   ]
  },
  {
   "cell_type": "code",
   "execution_count": 15,
   "id": "4be8966a",
   "metadata": {},
   "outputs": [
    {
     "data": {
      "text/plain": [
       "['inohd', 'niwhsa', 'tariv', 1, 2, 4, 7]"
      ]
     },
     "execution_count": 15,
     "metadata": {},
     "output_type": "execute_result"
    }
   ],
   "source": [
    "output=new_list+list2\n",
    "output"
   ]
  }
 ],
 "metadata": {
  "kernelspec": {
   "display_name": "Python 3",
   "language": "python",
   "name": "python3"
  },
  "language_info": {
   "codemirror_mode": {
    "name": "ipython",
    "version": 3
   },
   "file_extension": ".py",
   "mimetype": "text/x-python",
   "name": "python",
   "nbconvert_exporter": "python",
   "pygments_lexer": "ipython3",
   "version": "3.8.8"
  }
 },
 "nbformat": 4,
 "nbformat_minor": 5
}
