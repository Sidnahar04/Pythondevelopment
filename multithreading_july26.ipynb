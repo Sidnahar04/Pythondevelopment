{
 "cells": [
  {
   "cell_type": "code",
   "execution_count": 4,
   "id": "5001038f",
   "metadata": {},
   "outputs": [
    {
     "name": "stdout",
     "output_type": "stream",
     "text": [
      "hello\n",
      "Mon Jul 26 20:32:08 2021\n",
      "india\n",
      "Mon Jul 26 20:32:11 2021\n"
     ]
    }
   ],
   "source": [
    "# executing two or more process at a same time\n",
    "import time\n",
    "\n",
    "def one():\n",
    "    print(\"hello\")\n",
    "    print(time.ctime())\n",
    "    time.sleep(3)\n",
    "    \n",
    "def two():\n",
    "    print(\"india\")\n",
    "    print(time.ctime())\n",
    "    \n",
    "one()\n",
    "two()"
   ]
  },
  {
   "cell_type": "code",
   "execution_count": 9,
   "id": "2cfbfc58",
   "metadata": {},
   "outputs": [
    {
     "name": "stdout",
     "output_type": "stream",
     "text": [
      "hello\n",
      "Mon Jul 26 20:35:39 2021\n",
      "india\n",
      "Mon Jul 26 20:35:39 2021\n",
      "America\n",
      "Mon Jul 26 20:35:39 2021\n"
     ]
    }
   ],
   "source": [
    "import time\n",
    "import threading\n",
    "\n",
    "def one():\n",
    "    print(\"hello\")\n",
    "    print(time.ctime())\n",
    "    time.sleep(3)\n",
    "    \n",
    "def two():\n",
    "    print(\"india\")\n",
    "    print(time.ctime())\n",
    "\n",
    "def three():\n",
    "    print(\"America\")\n",
    "    print(time.ctime())\n",
    "    \n",
    "# one()\n",
    "# two()\n",
    "# three()\n",
    "\n",
    "t1=threading.Thread(target=one)\n",
    "t2=threading.Thread(target=two)\n",
    "t3=threading.Thread(target=three)    \n",
    "\n",
    "t1.start()\n",
    "t2.start()\n",
    "t3.start()\n",
    "\n",
    "t1.join()\n",
    "t2.join()\n",
    "t3.join()"
   ]
  },
  {
   "cell_type": "code",
   "execution_count": 17,
   "id": "7c1fb21b",
   "metadata": {},
   "outputs": [
    {
     "name": "stdout",
     "output_type": "stream",
     "text": [
      "dhoni\n",
      "Mon Jul 26 20:43:42 2021\n",
      "29\n",
      "Mon Jul 26 20:43:42 2021\n"
     ]
    }
   ],
   "source": [
    "# args in functions should be passed as tuple\n",
    "\n",
    "def one(name):\n",
    "    print(name)\n",
    "    print(time.ctime())\n",
    "    time.sleep(3)\n",
    "    \n",
    "def two(age):\n",
    "    print(age)\n",
    "    print(time.ctime())\n",
    "    \n",
    "    \n",
    "t1=threading.Thread(target=one,args=(\"dhoni\",))\n",
    "t2=threading.Thread(target=two,args=(29,))\n",
    "\n",
    "t1.start()\n",
    "t2.start()\n",
    "\n",
    "\n",
    "t1.join()\n",
    "t2.join()\n"
   ]
  },
  {
   "cell_type": "code",
   "execution_count": 28,
   "id": "4a32c738",
   "metadata": {},
   "outputs": [
    {
     "name": "stdout",
     "output_type": "stream",
     "text": [
      "dhoni\n",
      "Mon Jul 26 20:54:14 2021\n",
      "india\n",
      "Mon Jul 26 20:54:14 2021\n",
      "dhoni\n",
      "Mon Jul 26 20:54:17 2021\n",
      "india\n",
      "Mon Jul 26 20:54:19 2021\n",
      "dhoni\n",
      "Mon Jul 26 20:54:20 2021\n",
      "dhoni\n",
      "Mon Jul 26 20:54:23 2021\n",
      "india\n",
      "Mon Jul 26 20:54:24 2021\n",
      "dhoni\n",
      "Mon Jul 26 20:54:26 2021\n",
      "india\n",
      "Mon Jul 26 20:54:29 2021\n",
      "india\n",
      "Mon Jul 26 20:54:34 2021\n"
     ]
    }
   ],
   "source": [
    "def one(name,delay):\n",
    "    c=0\n",
    "    while c<5:\n",
    "        print(name)\n",
    "        print(time.ctime())\n",
    "        time.sleep(delay)\n",
    "        c=c+1\n",
    "    \n",
    "t1=threading.Thread(target=one,args=(\"dhoni\",3))\n",
    "t2=threading.Thread(target=one,args=(\"india\",5))\n",
    "\n",
    "t1.start()\n",
    "t2.start()\n",
    "\n",
    "t1.join()\n",
    "t2.join()\n",
    "        "
   ]
  },
  {
   "cell_type": "code",
   "execution_count": null,
   "id": "fd2db983",
   "metadata": {},
   "outputs": [],
   "source": [
    "# semaphore  -1 when one or more thread tries to access a single and common function\n",
    "def one(name,thread_lock):\n",
    "    thread_lock.acquire()\n",
    "    new()\n",
    "    print(name,token)\n",
    "    thread_lock.release()\n",
    "    \n",
    "token=0\n",
    "def new():\n",
    "    global token\n",
    "    token=token+1\n",
    "\n",
    "lock=threading.Lock()\n",
    "t1=threading.Thread(target=one,args=(\"dhoni\",lock))\n",
    "t2=threading.Thread(target=one,args=(\"kohli\",lock))\n",
    "\n",
    "t1.start()\n",
    "t2.start()\n",
    "\n",
    "t1.join()\n",
    "t2.join()"
   ]
  },
  {
   "cell_type": "code",
   "execution_count": null,
   "id": "3382c487",
   "metadata": {},
   "outputs": [],
   "source": []
  }
 ],
 "metadata": {
  "kernelspec": {
   "display_name": "Python 3",
   "language": "python",
   "name": "python3"
  },
  "language_info": {
   "codemirror_mode": {
    "name": "ipython",
    "version": 3
   },
   "file_extension": ".py",
   "mimetype": "text/x-python",
   "name": "python",
   "nbconvert_exporter": "python",
   "pygments_lexer": "ipython3",
   "version": "3.8.8"
  }
 },
 "nbformat": 4,
 "nbformat_minor": 5
}
