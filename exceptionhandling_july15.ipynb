{
 "cells": [
  {
   "cell_type": "code",
   "execution_count": 1,
   "id": "09d602fe",
   "metadata": {},
   "outputs": [
    {
     "ename": "ZeroDivisionError",
     "evalue": "division by zero",
     "output_type": "error",
     "traceback": [
      "\u001b[1;31m---------------------------------------------------------------------------\u001b[0m",
      "\u001b[1;31mZeroDivisionError\u001b[0m                         Traceback (most recent call last)",
      "\u001b[1;32m<ipython-input-1-3be54460912a>\u001b[0m in \u001b[0;36m<module>\u001b[1;34m\u001b[0m\n\u001b[1;32m----> 1\u001b[1;33m \u001b[0mvar\u001b[0m\u001b[1;33m=\u001b[0m\u001b[1;36m10\u001b[0m\u001b[1;33m/\u001b[0m\u001b[1;36m0\u001b[0m\u001b[1;33m\u001b[0m\u001b[1;33m\u001b[0m\u001b[0m\n\u001b[0m\u001b[0;32m      2\u001b[0m \u001b[0mvar\u001b[0m\u001b[1;33m\u001b[0m\u001b[1;33m\u001b[0m\u001b[0m\n\u001b[0;32m      3\u001b[0m \u001b[0mprint\u001b[0m\u001b[1;33m(\u001b[0m\u001b[1;34m\"welcome\"\u001b[0m\u001b[1;33m)\u001b[0m\u001b[1;33m\u001b[0m\u001b[1;33m\u001b[0m\u001b[0m\n",
      "\u001b[1;31mZeroDivisionError\u001b[0m: division by zero"
     ]
    }
   ],
   "source": [
    "var=10/0\n",
    "var\n",
    "print(\"welcome\")"
   ]
  },
  {
   "cell_type": "code",
   "execution_count": 5,
   "id": "b027de23",
   "metadata": {},
   "outputs": [
    {
     "name": "stdout",
     "output_type": "stream",
     "text": [
      "error in code\n",
      "welcome\n"
     ]
    }
   ],
   "source": [
    "try:\n",
    "    var=10/0\n",
    "    var\n",
    "except:  #catch block\n",
    "    print(\"error in code\")\n",
    "    \n",
    "print(\"welcome\")"
   ]
  },
  {
   "cell_type": "code",
   "execution_count": 8,
   "id": "ea4946a1",
   "metadata": {},
   "outputs": [
    {
     "name": "stdout",
     "output_type": "stream",
     "text": [
      "error\n",
      "Hello world\n"
     ]
    }
   ],
   "source": [
    "#nameing a error\n",
    "try:\n",
    "    var=10/0\n",
    "    var\n",
    "except ZeroDivisionError:\n",
    "    print(\"error\")\n",
    "print(\"Hello world\")"
   ]
  },
  {
   "cell_type": "code",
   "execution_count": 9,
   "id": "0eb245df",
   "metadata": {},
   "outputs": [
    {
     "name": "stdout",
     "output_type": "stream",
     "text": [
      "error in code\n",
      "hello,world\n"
     ]
    }
   ],
   "source": [
    "try:\n",
    "    var=\"a\"+10\n",
    "    var\n",
    "except ZeroDivisionError:\n",
    "    print(\"error\")\n",
    "except:\n",
    "    print(\"error in code\")\n",
    "print(\"hello,world\")"
   ]
  },
  {
   "cell_type": "code",
   "execution_count": 11,
   "id": "98cb25d4",
   "metadata": {},
   "outputs": [
    {
     "name": "stdout",
     "output_type": "stream",
     "text": [
      "can only concatenate str (not \"int\") to str\n",
      "hello,world\n"
     ]
    }
   ],
   "source": [
    "try:\n",
    "    var=\"a\"+10  #str and int\n",
    "    var\n",
    "except ZeroDivisionError:\n",
    "    print(\"error\")\n",
    "except TypeError as ex:     \n",
    "    print(ex)\n",
    "except:\n",
    "    print(\"error in code\")\n",
    "    \n",
    "print(\"hello,world\")"
   ]
  },
  {
   "cell_type": "code",
   "execution_count": 14,
   "id": "fbd21428",
   "metadata": {},
   "outputs": [
    {
     "name": "stdout",
     "output_type": "stream",
     "text": [
      "can only concatenate str (not \"int\") to str\n",
      "hello,world\n"
     ]
    }
   ],
   "source": [
    "try:\n",
    "    var=\"a\"+10\n",
    "    var\n",
    "except (ZeroDivisionError,TypeError) as ex:  #both in same block\n",
    "    print(ex)\n",
    "except:               #default exception block\n",
    "    print(\"error in code\")\n",
    "\n",
    "print(\"hello,world\")\n"
   ]
  },
  {
   "cell_type": "code",
   "execution_count": 17,
   "id": "9209fac3",
   "metadata": {},
   "outputs": [
    {
     "name": "stdout",
     "output_type": "stream",
     "text": [
      "can only concatenate str (not \"int\") to str\n"
     ]
    }
   ],
   "source": [
    "#optimised solution for every type of error\n",
    "try:\n",
    "    var=\"b\"+20\n",
    "    var\n",
    "except Exception as ex:\n",
    "    print(ex)"
   ]
  },
  {
   "cell_type": "code",
   "execution_count": 24,
   "id": "aeb722ba",
   "metadata": {},
   "outputs": [
    {
     "name": "stdout",
     "output_type": "stream",
     "text": [
      "9\n",
      "my else block\n",
      "final\n"
     ]
    }
   ],
   "source": [
    "try:\n",
    "    a=5+4\n",
    "    print(a)\n",
    "except Exception as ex:\n",
    "    print(ex)\n",
    "else:\n",
    "    print(\"my else block\")\n",
    "finally:\n",
    "    print(\"final\")\n",
    "#else and finally are optional"
   ]
  },
  {
   "cell_type": "code",
   "execution_count": 5,
   "id": "db4fb4b1",
   "metadata": {},
   "outputs": [
    {
     "ename": "TypeError",
     "evalue": "",
     "output_type": "error",
     "traceback": [
      "\u001b[1;31m---------------------------------------------------------------------------\u001b[0m",
      "\u001b[1;31mTypeError\u001b[0m                                 Traceback (most recent call last)",
      "\u001b[1;32m<ipython-input-5-f4b4a57ffb8a>\u001b[0m in \u001b[0;36m<module>\u001b[1;34m\u001b[0m\n\u001b[0;32m      3\u001b[0m     \u001b[0mvar\u001b[0m\u001b[1;33m=\u001b[0m\u001b[1;36m10\u001b[0m\u001b[1;33m\u001b[0m\u001b[1;33m\u001b[0m\u001b[0m\n\u001b[0;32m      4\u001b[0m     \u001b[1;32mif\u001b[0m \u001b[0mvar\u001b[0m\u001b[1;33m>\u001b[0m\u001b[1;36m6\u001b[0m\u001b[1;33m:\u001b[0m\u001b[1;33m\u001b[0m\u001b[1;33m\u001b[0m\u001b[0m\n\u001b[1;32m----> 5\u001b[1;33m         \u001b[1;32mraise\u001b[0m \u001b[0mTypeError\u001b[0m\u001b[1;33m\u001b[0m\u001b[1;33m\u001b[0m\u001b[0m\n\u001b[0m\u001b[0;32m      6\u001b[0m \u001b[1;32mexcept\u001b[0m \u001b[0mZeroDivisionError\u001b[0m\u001b[1;33m:\u001b[0m\u001b[1;33m\u001b[0m\u001b[1;33m\u001b[0m\u001b[0m\n\u001b[0;32m      7\u001b[0m     \u001b[0mprint\u001b[0m\u001b[1;33m(\u001b[0m\u001b[1;34m\"first class\"\u001b[0m\u001b[1;33m)\u001b[0m\u001b[1;33m\u001b[0m\u001b[1;33m\u001b[0m\u001b[0m\n",
      "\u001b[1;31mTypeError\u001b[0m: "
     ]
    }
   ],
   "source": [
    "#raising a error\n",
    "try:\n",
    "    var=10\n",
    "    if var>6:\n",
    "        raise TypeError\n",
    "except ZeroDivisionError:\n",
    "    print(\"first class\")\n",
    "    \n",
    "        "
   ]
  },
  {
   "cell_type": "code",
   "execution_count": 31,
   "id": "c6430392",
   "metadata": {},
   "outputs": [
    {
     "name": "stdout",
     "output_type": "stream",
     "text": [
      "\n"
     ]
    }
   ],
   "source": [
    "try:\n",
    "    var=10\n",
    "    if var>6:\n",
    "        raise TypeError\n",
    "except TypeError as ex:\n",
    "    print(ex)\n",
    "    "
   ]
  },
  {
   "cell_type": "code",
   "execution_count": 3,
   "id": "6e9dc99c",
   "metadata": {},
   "outputs": [
    {
     "name": "stdout",
     "output_type": "stream",
     "text": [
      "raised error\n"
     ]
    }
   ],
   "source": [
    "try:\n",
    "    var=10\n",
    "    if var>6:\n",
    "        raise TypeError(\"raised error\")\n",
    "except TypeError as ex:\n",
    "    print(ex)\n",
    "    "
   ]
  },
  {
   "cell_type": "code",
   "execution_count": 36,
   "id": "5542900b",
   "metadata": {},
   "outputs": [
    {
     "name": "stdout",
     "output_type": "stream",
     "text": [
      "first class\n"
     ]
    }
   ],
   "source": [
    "class myownerror(Exception):\n",
    "    pass\n",
    "try:\n",
    "    var=10\n",
    "    if var>8:\n",
    "        raise myownerror\n",
    "except:\n",
    "    print(\"first class\")"
   ]
  },
  {
   "cell_type": "code",
   "execution_count": 42,
   "id": "5ac21687",
   "metadata": {},
   "outputs": [
    {
     "name": "stdout",
     "output_type": "stream",
     "text": [
      "user defined\n"
     ]
    }
   ],
   "source": [
    "#user defined exception\n",
    "class myownerror(Exception):\n",
    "    mymeaning=\"user defined\"\n",
    "    \n",
    "try:\n",
    "    var=10\n",
    "    if var>8:\n",
    "        raise myownerror\n",
    "except myownerror as ex:\n",
    "    print(ex.mymeaning)"
   ]
  },
  {
   "cell_type": "code",
   "execution_count": null,
   "id": "8b6e9a65",
   "metadata": {},
   "outputs": [],
   "source": []
  }
 ],
 "metadata": {
  "kernelspec": {
   "display_name": "Python 3",
   "language": "python",
   "name": "python3"
  },
  "language_info": {
   "codemirror_mode": {
    "name": "ipython",
    "version": 3
   },
   "file_extension": ".py",
   "mimetype": "text/x-python",
   "name": "python",
   "nbconvert_exporter": "python",
   "pygments_lexer": "ipython3",
   "version": "3.8.8"
  }
 },
 "nbformat": 4,
 "nbformat_minor": 5
}
