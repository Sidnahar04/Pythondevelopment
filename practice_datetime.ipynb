{
 "cells": [
  {
   "cell_type": "code",
   "execution_count": 1,
   "id": "bb5bede8",
   "metadata": {},
   "outputs": [],
   "source": [
    "from datetime import datetime\n",
    "import os\n",
    "import tkinter "
   ]
  },
  {
   "cell_type": "code",
   "execution_count": 6,
   "id": "57510621",
   "metadata": {},
   "outputs": [
    {
     "data": {
      "text/plain": [
       "datetime.datetime(2021, 7, 21, 19, 29, 31)"
      ]
     },
     "execution_count": 6,
     "metadata": {},
     "output_type": "execute_result"
    }
   ],
   "source": [
    "x=datetime.now().replace(microsecond=0)\n",
    "x"
   ]
  },
  {
   "cell_type": "code",
   "execution_count": 27,
   "id": "acd11b98",
   "metadata": {},
   "outputs": [
    {
     "data": {
      "text/plain": [
       "'21-Jul-2021 19:47:29 Wednesday'"
      ]
     },
     "execution_count": 27,
     "metadata": {},
     "output_type": "execute_result"
    }
   ],
   "source": [
    "y=\"%d-%b-%Y %H:%M:%S %A\"\n",
    "z=datetime.strftime(x,y)   #b is for short month.   A is for weekday.\n",
    "z"
   ]
  },
  {
   "cell_type": "code",
   "execution_count": 16,
   "id": "b6f9c1ac",
   "metadata": {},
   "outputs": [
    {
     "data": {
      "text/plain": [
       "'21-Jul-2021 07:29:31'"
      ]
     },
     "execution_count": 16,
     "metadata": {},
     "output_type": "execute_result"
    }
   ],
   "source": [
    "y=\"%d-%b-%Y %I:%M:%S\"\n",
    "z=datetime.strftime(x,y)   #y is for short year(removes century).\n",
    "z                          #I is for 12hr time.   "
   ]
  },
  {
   "cell_type": "code",
   "execution_count": 23,
   "id": "fea12080",
   "metadata": {},
   "outputs": [
    {
     "data": {
      "text/plain": [
       "'Wed Jul 21 19:45:26 2021'"
      ]
     },
     "execution_count": 23,
     "metadata": {},
     "output_type": "execute_result"
    }
   ],
   "source": [
    "x=datetime.now()\n",
    "y=x.strftime(\"%c\")\n",
    "y\n"
   ]
  },
  {
   "cell_type": "code",
   "execution_count": 26,
   "id": "3d761d1f",
   "metadata": {},
   "outputs": [
    {
     "data": {
      "text/plain": [
       "'07/21/21'"
      ]
     },
     "execution_count": 26,
     "metadata": {},
     "output_type": "execute_result"
    }
   ],
   "source": [
    "x=datetime.now()\n",
    "y=x.strftime(\"%x\")     #Date\n",
    "y\n"
   ]
  }
 ],
 "metadata": {
  "kernelspec": {
   "display_name": "Python 3",
   "language": "python",
   "name": "python3"
  },
  "language_info": {
   "codemirror_mode": {
    "name": "ipython",
    "version": 3
   },
   "file_extension": ".py",
   "mimetype": "text/x-python",
   "name": "python",
   "nbconvert_exporter": "python",
   "pygments_lexer": "ipython3",
   "version": "3.8.8"
  }
 },
 "nbformat": 4,
 "nbformat_minor": 5
}
