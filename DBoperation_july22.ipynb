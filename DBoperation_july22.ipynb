{
 "cells": [
  {
   "cell_type": "code",
   "execution_count": 2,
   "id": "ffb7675d",
   "metadata": {},
   "outputs": [],
   "source": [
    "import sqlite3"
   ]
  },
  {
   "cell_type": "code",
   "execution_count": 58,
   "id": "be8c346a",
   "metadata": {},
   "outputs": [
    {
     "name": "stdout",
     "output_type": "stream",
     "text": [
      "insert into sports (\"name\",created) values (\"{}\",{}).format(output[0],output[1])\n",
      "insert into sports (\"name\",created) values (\"{}\",{}).format(output[0],output[1])\n",
      "insert into sports (\"name\",created) values (\"{}\",{}).format(output[0],output[1])\n"
     ]
    }
   ],
   "source": [
    "\n",
    "def db_execution(query,db=\"sid.db\"):\n",
    "    try:\n",
    "        connection=sqlite3.connect(db)\n",
    "        x=connection.execute(query)\n",
    "        x_output=x.fetchall()\n",
    "        if len(x_output)>1:\n",
    "            return x_output\n",
    "    except Exception as ex:\n",
    "        return ex\n",
    "\n",
    "    finally:\n",
    "        connection.commit()\n",
    "        connection.close()\n",
    "    with open(\"sid.txt\",\"r\") as my_file:\n",
    "        content=my_file.readlines()\n",
    "    for data in content:\n",
    "        output=data.split(\",\")\n",
    "        query=\"\"\"insert into sports (\"name\",created) values (\"{}\",{}).format(output[0],output[1])\"\"\"\n",
    "        print(query)\n",
    "\n",
    "a=db_execution(query)\n",
    "if a!=None:\n",
    "    print(a)\n",
    "        \n",
    "        \n",
    "        \n",
    "\n",
    "            \n"
   ]
  },
  {
   "cell_type": "code",
   "execution_count": null,
   "id": "35698d12",
   "metadata": {},
   "outputs": [],
   "source": []
  },
  {
   "cell_type": "code",
   "execution_count": 57,
   "id": "b3ed3f02",
   "metadata": {},
   "outputs": [
    {
     "name": "stdout",
     "output_type": "stream",
     "text": [
      "insert into sports (\"name\",created) values (\"{}\",{}).format(output[0],output[1])\n",
      "insert into sports (\"name\",created) values (\"{}\",{}).format(output[0],output[1])\n",
      "insert into sports (\"name\",created) values (\"{}\",{}).format(output[0],output[1])\n"
     ]
    }
   ],
   "source": [
    "#query=\"\"\"create table sports (\"name\" text ,\"created\" integer)\"\"\"\n",
    "#query=\"\"\"insert into sports values(\"football\",1990)\"\"\"\n",
    "#query=\"\"\"insert into sports values(\"cricket\",1990)\"\"\"\n",
    "#query=\"\"\"insert into sports values (\"hockey\",\"1996\")\"\"\"\n",
    "query=\"\"\"select * from sports where created>1996\"\"\"\n",
    "\n"
   ]
  },
  {
   "cell_type": "code",
   "execution_count": null,
   "id": "64ea2b0c",
   "metadata": {},
   "outputs": [],
   "source": [
    "with open(\"raj.txt\",\"r\") as file_obj:\n",
    "    content = file_obj.readlines()\n",
    "    for data in content:\n",
    "        output = data.split(\",\")\n",
    "        query = \"\"\"insert into sports (name,created) values (\"{}\",{})\"\"\".format(output[0],output[1].strip(\"\\n\"))\n",
    "        print(query)\n",
    "        my_db_output = DB_Execution(query)\n",
    "        if my_db_output != None:\n",
    "            print(my_db_output)\n"
   ]
  }
 ],
 "metadata": {
  "kernelspec": {
   "display_name": "Python 3",
   "language": "python",
   "name": "python3"
  },
  "language_info": {
   "codemirror_mode": {
    "name": "ipython",
    "version": 3
   },
   "file_extension": ".py",
   "mimetype": "text/x-python",
   "name": "python",
   "nbconvert_exporter": "python",
   "pygments_lexer": "ipython3",
   "version": "3.8.8"
  }
 },
 "nbformat": 4,
 "nbformat_minor": 5
}
