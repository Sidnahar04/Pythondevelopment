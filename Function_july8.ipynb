{
 "cells": [
  {
   "cell_type": "code",
   "execution_count": 2,
   "id": "3e619543",
   "metadata": {},
   "outputs": [
    {
     "name": "stdout",
     "output_type": "stream",
     "text": [
      "welcome\n"
     ]
    }
   ],
   "source": [
    "def myfunc():\n",
    "    print(\"welcome\")\n",
    "    \n",
    "    \n",
    "myfunc()"
   ]
  },
  {
   "cell_type": "code",
   "execution_count": 19,
   "id": "00e4a5e1",
   "metadata": {},
   "outputs": [],
   "source": [
    "def func1(user):\n",
    "    print(\"Welcome\",user)"
   ]
  },
  {
   "cell_type": "code",
   "execution_count": 20,
   "id": "2a6b30d7",
   "metadata": {},
   "outputs": [
    {
     "name": "stdout",
     "output_type": "stream",
     "text": [
      "Welcome mohan\n",
      "Welcome 4\n",
      "Welcome ['dhoni', 'b', 'r']\n",
      "Welcome {'dhoni': '12'}\n"
     ]
    }
   ],
   "source": [
    "func1(\"mohan\")\n",
    "func1(4)\n",
    "func1(['dhoni',\"b\",\"r\"])\n",
    "func1({\"dhoni\":\"12\"})\n",
    "#It can take all type of arguments."
   ]
  },
  {
   "cell_type": "code",
   "execution_count": 21,
   "id": "e92ca574",
   "metadata": {},
   "outputs": [],
   "source": [
    "def func2(user,place):\n",
    "    print(\"Welcome\",user,\"from\",place)\n",
    "    "
   ]
  },
  {
   "cell_type": "code",
   "execution_count": 22,
   "id": "dd63134a",
   "metadata": {},
   "outputs": [
    {
     "name": "stdout",
     "output_type": "stream",
     "text": [
      "Welcome dhoni from delhi\n"
     ]
    }
   ],
   "source": [
    "func2(\"dhoni\",\"delhi\")\n"
   ]
  },
  {
   "cell_type": "code",
   "execution_count": 25,
   "id": "51b1924e",
   "metadata": {},
   "outputs": [
    {
     "name": "stdout",
     "output_type": "stream",
     "text": [
      "Welcome dhoni from india\n",
      "Welcome kohli from delhi\n"
     ]
    }
   ],
   "source": [
    "def func3(user,place=\"india\"):#default arument\n",
    "    print(\"Welcome\",user,\"from\",place)\n",
    "    \n",
    "func3(\"dhoni\")\n",
    "func3(\"kohli\",\"delhi\")"
   ]
  },
  {
   "cell_type": "code",
   "execution_count": 29,
   "id": "f720b730",
   "metadata": {},
   "outputs": [
    {
     "ename": "SyntaxError",
     "evalue": "non-default argument follows default argument (<ipython-input-29-c4f20ede6310>, line 1)",
     "output_type": "error",
     "traceback": [
      "\u001b[1;36m  File \u001b[1;32m\"<ipython-input-29-c4f20ede6310>\"\u001b[1;36m, line \u001b[1;32m1\u001b[0m\n\u001b[1;33m    def func4(user=\"dhoni\",place):#default arument\u001b[0m\n\u001b[1;37m              ^\u001b[0m\n\u001b[1;31mSyntaxError\u001b[0m\u001b[1;31m:\u001b[0m non-default argument follows default argument\n"
     ]
    }
   ],
   "source": [
    "def func4(user=\"dhoni\",place):#default arument\n",
    "    print(\"Welcome\",user,\"from\",place)\n",
    "    \n",
    "func4(\"dhoni\")\n"
   ]
  },
  {
   "cell_type": "code",
   "execution_count": 32,
   "id": "9b3451f8",
   "metadata": {},
   "outputs": [
    {
     "ename": "SyntaxError",
     "evalue": "non-default argument follows default argument (<ipython-input-32-32cdf7ba2768>, line 1)",
     "output_type": "error",
     "traceback": [
      "\u001b[1;36m  File \u001b[1;32m\"<ipython-input-32-32cdf7ba2768>\"\u001b[1;36m, line \u001b[1;32m1\u001b[0m\n\u001b[1;33m    def func5(user=\"kohli\",place):#default arument\u001b[0m\n\u001b[1;37m              ^\u001b[0m\n\u001b[1;31mSyntaxError\u001b[0m\u001b[1;31m:\u001b[0m non-default argument follows default argument\n"
     ]
    }
   ],
   "source": [
    "def func5(user=\"kohli\",place):#default arument\n",
    "    print(\"Welcome\",user,\"from\",place)\n",
    "    \n",
    "\n",
    "func5(\"delhi\")"
   ]
  },
  {
   "cell_type": "code",
   "execution_count": 34,
   "id": "38718f3a",
   "metadata": {},
   "outputs": [
    {
     "name": "stdout",
     "output_type": "stream",
     "text": [
      "Welcome sid from bad\n"
     ]
    }
   ],
   "source": [
    "def func6(user,place):\n",
    "    print(\"Welcome\",user,\"from\",place)\n",
    "    \n",
    "func6(user=\"sid\",place=\"bad\")"
   ]
  },
  {
   "cell_type": "code",
   "execution_count": 37,
   "id": "b9401b30",
   "metadata": {},
   "outputs": [],
   "source": [
    "def student_pass(*users):\n",
    "    print(users)\n",
    "    "
   ]
  },
  {
   "cell_type": "code",
   "execution_count": 39,
   "id": "95984c7a",
   "metadata": {},
   "outputs": [
    {
     "name": "stdout",
     "output_type": "stream",
     "text": [
      "('dhoni',)\n",
      "('dhoni', 'kohli')\n"
     ]
    }
   ],
   "source": [
    "student_pass(\"dhoni\")\n",
    "student_pass(\"dhoni\",\"kohli\") #updated as * is there and outpt in tuple."
   ]
  },
  {
   "cell_type": "code",
   "execution_count": 43,
   "id": "00576e8a",
   "metadata": {},
   "outputs": [],
   "source": [
    "def student_detail(**users): #keyword argument and output in dictionary\n",
    "    print(users)"
   ]
  },
  {
   "cell_type": "code",
   "execution_count": 44,
   "id": "f039529d",
   "metadata": {},
   "outputs": [
    {
     "name": "stdout",
     "output_type": "stream",
     "text": [
      "{'name': 'dhoni'}\n",
      "{'name': 'kohli', 'age': 33}\n"
     ]
    }
   ],
   "source": [
    "student_detail(name=\"dhoni\")\n",
    "student_detail(name=\"kohli\",age=33)"
   ]
  },
  {
   "cell_type": "code",
   "execution_count": 48,
   "id": "10aeebdf",
   "metadata": {},
   "outputs": [
    {
     "name": "stdout",
     "output_type": "stream",
     "text": [
      "180\n"
     ]
    }
   ],
   "source": [
    "def student_mark(name,eng,math):\n",
    "    total=eng+math\n",
    "    return total\n",
    "\n",
    "output=student_mark(\"dhoni\",90,90)\n",
    "print(output)"
   ]
  },
  {
   "cell_type": "code",
   "execution_count": 52,
   "id": "a9d61b29",
   "metadata": {},
   "outputs": [
    {
     "name": "stdout",
     "output_type": "stream",
     "text": [
      "180\n",
      "first class\n"
     ]
    }
   ],
   "source": [
    "def student_mark1(name,eng,math):\n",
    "    total=eng+math\n",
    "    return total\n",
    "\n",
    "output=student_mark1(\"dhoni\",90,90)\n",
    "print(output)\n",
    "if output>150:\n",
    "    print(\"first class\")\n",
    "else:\n",
    "    print(\"second class\")"
   ]
  },
  {
   "cell_type": "code",
   "execution_count": 55,
   "id": "e9b35c0f",
   "metadata": {},
   "outputs": [
    {
     "name": "stdout",
     "output_type": "stream",
     "text": [
      "(180, 'dhoni')\n",
      "first class\n"
     ]
    }
   ],
   "source": [
    "def student_mark2(name,eng,math):\n",
    "    total=eng+math\n",
    "    return total,name\n",
    "\n",
    "output=student_mark2(\"dhoni\",90,90)\n",
    "print(output)\n",
    "if output[0]>150:   #0 is used as we want to execute print 0th index of tuple.\n",
    "    print(\"first class\")\n",
    "else:\n",
    "    print(\"second class\")"
   ]
  },
  {
   "cell_type": "code",
   "execution_count": 59,
   "id": "e49efc39",
   "metadata": {},
   "outputs": [
    {
     "ename": "TypeError",
     "evalue": "cannot unpack non-iterable int object",
     "output_type": "error",
     "traceback": [
      "\u001b[1;31m---------------------------------------------------------------------------\u001b[0m",
      "\u001b[1;31mTypeError\u001b[0m                                 Traceback (most recent call last)",
      "\u001b[1;32m<ipython-input-59-6ca4a16afb0f>\u001b[0m in \u001b[0;36m<module>\u001b[1;34m\u001b[0m\n\u001b[0;32m      3\u001b[0m     \u001b[1;32mreturn\u001b[0m \u001b[0mtotal\u001b[0m\u001b[1;33m\u001b[0m\u001b[1;33m\u001b[0m\u001b[0m\n\u001b[0;32m      4\u001b[0m \u001b[1;33m\u001b[0m\u001b[0m\n\u001b[1;32m----> 5\u001b[1;33m \u001b[0moutput\u001b[0m\u001b[1;33m,\u001b[0m\u001b[0moutput_name\u001b[0m\u001b[1;33m=\u001b[0m\u001b[0mstudent_mark3\u001b[0m\u001b[1;33m(\u001b[0m\u001b[1;34m\"dhoni\"\u001b[0m\u001b[1;33m,\u001b[0m\u001b[1;36m90\u001b[0m\u001b[1;33m,\u001b[0m\u001b[1;36m90\u001b[0m\u001b[1;33m)\u001b[0m\u001b[1;33m\u001b[0m\u001b[1;33m\u001b[0m\u001b[0m\n\u001b[0m\u001b[0;32m      6\u001b[0m \u001b[0mprint\u001b[0m\u001b[1;33m(\u001b[0m\u001b[0moutput\u001b[0m\u001b[1;33m,\u001b[0m\u001b[0moutput_name\u001b[0m\u001b[1;33m)\u001b[0m\u001b[1;33m\u001b[0m\u001b[1;33m\u001b[0m\u001b[0m\n\u001b[0;32m      7\u001b[0m \u001b[1;33m\u001b[0m\u001b[0m\n",
      "\u001b[1;31mTypeError\u001b[0m: cannot unpack non-iterable int object"
     ]
    }
   ],
   "source": [
    "def student_mark3(name,eng,math):\n",
    "    total=eng+math\n",
    "    return total\n",
    "\n",
    "output,output_name=student_mark3(\"dhoni\",90,90)\n",
    "print(output,output_name)\n",
    "\n",
    "if output>150:\n",
    "    print(\"first class\")\n",
    "else:\n",
    "    print(\"second class\")"
   ]
  },
  {
   "cell_type": "code",
   "execution_count": null,
   "id": "0697e01e",
   "metadata": {},
   "outputs": [],
   "source": []
  }
 ],
 "metadata": {
  "kernelspec": {
   "display_name": "Python 3",
   "language": "python",
   "name": "python3"
  },
  "language_info": {
   "codemirror_mode": {
    "name": "ipython",
    "version": 3
   },
   "file_extension": ".py",
   "mimetype": "text/x-python",
   "name": "python",
   "nbconvert_exporter": "python",
   "pygments_lexer": "ipython3",
   "version": "3.8.8"
  }
 },
 "nbformat": 4,
 "nbformat_minor": 5
}
