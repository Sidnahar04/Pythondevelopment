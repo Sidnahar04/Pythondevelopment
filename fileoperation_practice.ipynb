{
 "cells": [
  {
   "cell_type": "code",
   "execution_count": 8,
   "id": "c949e938",
   "metadata": {},
   "outputs": [
    {
     "name": "stdout",
     "output_type": "stream",
     "text": [
      "[]\n"
     ]
    }
   ],
   "source": [
    "with open(\"hello.txt\",\"w+\") as my_file:\n",
    "    my_file.write(\"Hello to all!\")\n",
    "    content=my_file.readlines()\n",
    "    print(content)"
   ]
  },
  {
   "cell_type": "code",
   "execution_count": 5,
   "id": "0afc4881",
   "metadata": {},
   "outputs": [
    {
     "name": "stdout",
     "output_type": "stream",
     "text": [
      "[]\n"
     ]
    }
   ],
   "source": [
    "with open(\"hello.txt\",\"a+\") as my_file:\n",
    "    my_file.write(\"\\nHello to all!\")\n",
    "    content=my_file.readlines()\n",
    "    print(content)\n",
    "    my_file.write(\"Hi,Have a good day\")"
   ]
  },
  {
   "cell_type": "code",
   "execution_count": 7,
   "id": "0cbdc8da",
   "metadata": {},
   "outputs": [
    {
     "name": "stdout",
     "output_type": "stream",
     "text": [
      "['Hello to all!']\n"
     ]
    }
   ],
   "source": [
    "with open(\"hello.txt\",\"w+\") as my_file:\n",
    "    my_file.write(\"Hello to all!\")\n",
    "    my_file.seek(0)\n",
    "    content=my_file.readlines()\n",
    "    print(content)"
   ]
  },
  {
   "cell_type": "code",
   "execution_count": 17,
   "id": "367eb5b8",
   "metadata": {},
   "outputs": [
    {
     "name": "stdout",
     "output_type": "stream",
     "text": [
      "[]\n"
     ]
    }
   ],
   "source": [
    "with open(\"hello.txt\",\"w+\") as my_file:\n",
    "    my_file.write(\"Hello to!\")\n",
    "    my_file.tell()\n",
    "    content=my_file.readlines()\n",
    "    print(content)\n",
    "    my_file.write(\"\\nHello world\")\n",
    "    my_file.write(\"\\nHello world1\")\n",
    "    "
   ]
  }
 ],
 "metadata": {
  "kernelspec": {
   "display_name": "Python 3",
   "language": "python",
   "name": "python3"
  },
  "language_info": {
   "codemirror_mode": {
    "name": "ipython",
    "version": 3
   },
   "file_extension": ".py",
   "mimetype": "text/x-python",
   "name": "python",
   "nbconvert_exporter": "python",
   "pygments_lexer": "ipython3",
   "version": "3.8.8"
  }
 },
 "nbformat": 4,
 "nbformat_minor": 5
}
