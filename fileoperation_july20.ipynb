{
 "cells": [
  {
   "cell_type": "code",
   "execution_count": 16,
   "id": "6be2b92f",
   "metadata": {},
   "outputs": [],
   "source": [
    "#tkinter help in GUI like click button,login button,etc.\n",
    "from datetime import datetime\n",
    "import os\n",
    "import tkinter\n",
    "\n",
    "\n",
    "    \n"
   ]
  },
  {
   "cell_type": "code",
   "execution_count": 22,
   "id": "5ff61f82",
   "metadata": {},
   "outputs": [
    {
     "name": "stdout",
     "output_type": "stream",
     "text": [
      "2021_07_20_21_15_05\n"
     ]
    }
   ],
   "source": [
    "current_time=datetime.now()\n",
    "current_time\n",
    "my_format=\"%Y_%m_%d_%H_%M_%S\"\n",
    "modified_datetime=datetime.strftime(current_time,my_format)\n",
    "print(modified_datetime)"
   ]
  },
  {
   "cell_type": "code",
   "execution_count": 23,
   "id": "5db90a5e",
   "metadata": {},
   "outputs": [
    {
     "name": "stdout",
     "output_type": "stream",
     "text": [
      "Enter file name:practice\n",
      "enter content:hello world\n"
     ]
    }
   ],
   "source": [
    "path=filedialog.askdirectory()\n",
    "\n",
    "my_file=input(\"Enter file name:\")\n",
    "if my_file.endswith(\".txt\"):\n",
    "    my_file_name=my_strip(\".txt\")\n",
    "    my_file_name=my_file_name+modified_datetime+\".txt\"\n",
    "    \n",
    "else:\n",
    "    my_file_name=my_file+modified_datetime+\".txt\"\n",
    "    \n",
    "my_final_path=os.path.join(path,my_file_name)\n",
    "\n",
    "with open(my_final_path,\"w\") as file_obj:\n",
    "    content=input(\"enter content:\")\n",
    "    file_obj.write(content)"
   ]
  },
  {
   "cell_type": "code",
   "execution_count": null,
   "id": "bd2ec11b",
   "metadata": {},
   "outputs": [],
   "source": []
  }
 ],
 "metadata": {
  "kernelspec": {
   "display_name": "Python 3",
   "language": "python",
   "name": "python3"
  },
  "language_info": {
   "codemirror_mode": {
    "name": "ipython",
    "version": 3
   },
   "file_extension": ".py",
   "mimetype": "text/x-python",
   "name": "python",
   "nbconvert_exporter": "python",
   "pygments_lexer": "ipython3",
   "version": "3.8.8"
  }
 },
 "nbformat": 4,
 "nbformat_minor": 5
}
