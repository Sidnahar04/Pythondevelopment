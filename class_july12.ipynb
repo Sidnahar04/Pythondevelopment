{
 "cells": [
  {
   "cell_type": "code",
   "execution_count": 2,
   "id": "55dff70b",
   "metadata": {},
   "outputs": [
    {
     "name": "stdout",
     "output_type": "stream",
     "text": [
      "hello\n"
     ]
    }
   ],
   "source": [
    "class my_class:\n",
    "    def fun():\n",
    "        print(\"hello\")\n",
    "my_class.fun() #unbounded class(class without constructor)"
   ]
  },
  {
   "cell_type": "code",
   "execution_count": 6,
   "id": "b45f0322",
   "metadata": {},
   "outputs": [
    {
     "name": "stdout",
     "output_type": "stream",
     "text": [
      "hello\n"
     ]
    },
    {
     "data": {
      "text/plain": [
       "'dhoni'"
      ]
     },
     "execution_count": 6,
     "metadata": {},
     "output_type": "execute_result"
    }
   ],
   "source": [
    "class class1:\n",
    "    data =\"dhoni\"\n",
    "    def fun1():\n",
    "        print(\"hello\")\n",
    "class1.fun1()\n",
    "class1.data"
   ]
  },
  {
   "cell_type": "code",
   "execution_count": 13,
   "id": "95b3f24d",
   "metadata": {},
   "outputs": [
    {
     "name": "stdout",
     "output_type": "stream",
     "text": [
      "hello\n"
     ]
    },
    {
     "data": {
      "text/plain": [
       "'dhoni'"
      ]
     },
     "execution_count": 13,
     "metadata": {},
     "output_type": "execute_result"
    }
   ],
   "source": [
    "class class1:\n",
    "    data =\"dhoni\"\n",
    "    def fun1():\n",
    "        print(\"hello\")\n",
    "        \n",
    "my=class1\n",
    "my.fun1()                 #unbounded class\n",
    "my.data"
   ]
  },
  {
   "cell_type": "code",
   "execution_count": 19,
   "id": "477b2e91",
   "metadata": {},
   "outputs": [
    {
     "name": "stdout",
     "output_type": "stream",
     "text": [
      "203240\n",
      "20351 sid\n"
     ]
    }
   ],
   "source": [
    "class my_server():\n",
    "    def hostname(ip):\n",
    "        print(ip)\n",
    "    def login(ip,pwd):\n",
    "        print(ip,pwd)\n",
    "my=my_server                    #without constructer\n",
    "my.hostname(\"203240\")\n",
    "my.login(\"20351\",\"sid\")"
   ]
  },
  {
   "cell_type": "code",
   "execution_count": 31,
   "id": "798cc084",
   "metadata": {},
   "outputs": [
    {
     "name": "stdout",
     "output_type": "stream",
     "text": [
      "2020\n",
      "2020 sid\n"
     ]
    }
   ],
   "source": [
    "class my_server1():\n",
    "    def __init__(sid,ip,pwd):  #self can be named as any other object.\n",
    "        sid.a=ip\n",
    "        sid.b=pwd\n",
    "        \n",
    "    def hostname(self):      #self is used here.self or any other object is used to fill an empty space created.\n",
    "        print(self.a)\n",
    "    def login(self):\n",
    "        print(self.a,self.b)\n",
    "       \n",
    "my=my_server1(\"2020\",\"sid\")    #constructer formed #my -instance object\n",
    "my.hostname()\n",
    "my.login()\n",
    "#whenever you create constructor it createsan empty space for internal reference"
   ]
  },
  {
   "cell_type": "code",
   "execution_count": 32,
   "id": "72ad2926",
   "metadata": {},
   "outputs": [
    {
     "name": "stdout",
     "output_type": "stream",
     "text": [
      "hello\n",
      "welcome\n"
     ]
    }
   ],
   "source": [
    "class my_server():\n",
    "    def hostname(self):\n",
    "        print(\"hello\")\n",
    "    def login(self):\n",
    "        print(\"welcome\")\n",
    "my=my_server()\n",
    "my.hostname()\n",
    "my.login()"
   ]
  }
 ],
 "metadata": {
  "kernelspec": {
   "display_name": "Python 3",
   "language": "python",
   "name": "python3"
  },
  "language_info": {
   "codemirror_mode": {
    "name": "ipython",
    "version": 3
   },
   "file_extension": ".py",
   "mimetype": "text/x-python",
   "name": "python",
   "nbconvert_exporter": "python",
   "pygments_lexer": "ipython3",
   "version": "3.8.8"
  }
 },
 "nbformat": 4,
 "nbformat_minor": 5
}
