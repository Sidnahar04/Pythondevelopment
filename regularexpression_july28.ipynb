{
 "cells": [
  {
   "cell_type": "code",
   "execution_count": 1,
   "id": "c54856f8",
   "metadata": {},
   "outputs": [],
   "source": [
    "# Regular expression\n",
    "# Validation--Server--Client\n",
    "# Facebook login-- Userid+Password\n",
    "# facebook registration- name,id,pwd,mobile no."
   ]
  },
  {
   "cell_type": "code",
   "execution_count": 3,
   "id": "1baf94e1",
   "metadata": {},
   "outputs": [
    {
     "name": "stdout",
     "output_type": "stream",
     "text": [
      "<re.Match object; span=(0, 5), match='dhoni'>\n"
     ]
    }
   ],
   "source": [
    "import re\n",
    "my_string=\"dhoni is better than kohli\"\n",
    "my_re_output=re.match(\"dhoni\",my_string)\n",
    "print(my_re_output)      #found a match of word dhoni"
   ]
  },
  {
   "cell_type": "code",
   "execution_count": 5,
   "id": "7e93fcba",
   "metadata": {},
   "outputs": [
    {
     "name": "stdout",
     "output_type": "stream",
     "text": [
      "<re.Match object; span=(0, 5), match='dhoni'>\n",
      "dhoni\n",
      "(0, 5)\n"
     ]
    }
   ],
   "source": [
    "my_string=\"dhoni is better than kohli\"\n",
    "my_re_output=re.match(\"dhoni\",my_string)\n",
    "print(my_re_output)\n",
    "print(my_re_output.group())#get the word as a output GROUP is used.\n",
    "print(my_re_output.span())  #to get exact location\n"
   ]
  },
  {
   "cell_type": "code",
   "execution_count": 8,
   "id": "01b796f6",
   "metadata": {},
   "outputs": [
    {
     "name": "stdout",
     "output_type": "stream",
     "text": [
      "<re.Match object; span=(12, 15), match='ter'>\n",
      "ter\n",
      "(12, 15)\n"
     ]
    }
   ],
   "source": [
    "my_string=\"dhoni is better than kohli\"\n",
    "my_re_output=re.search(\"ter\",my_string,re.I)  #I-ignore the cases\n",
    "print(my_re_output)  \n",
    "print(my_re_output.group())\n",
    "print(my_re_output.span())"
   ]
  },
  {
   "cell_type": "code",
   "execution_count": 9,
   "id": "3b897ca1",
   "metadata": {},
   "outputs": [
    {
     "name": "stdout",
     "output_type": "stream",
     "text": [
      "<html><head><body>\n"
     ]
    }
   ],
   "source": [
    "my_data=\"<html><head><body>\"\n",
    "re_output=re.search(\"<.*>\",my_data)  #.* any word or any character\n",
    "print(re_output.group()) \n",
    "#greedy method"
   ]
  },
  {
   "cell_type": "code",
   "execution_count": 11,
   "id": "4fe9965a",
   "metadata": {},
   "outputs": [
    {
     "name": "stdout",
     "output_type": "stream",
     "text": [
      "<html>\n"
     ]
    }
   ],
   "source": [
    "my_data=\"<html><head><body>\"\n",
    "re_output=re.search(\"<.*?>\",my_data)   #.*? first thing that got\n",
    "print(re_output.group())\n",
    "#? means non greedy method\n"
   ]
  },
  {
   "cell_type": "code",
   "execution_count": 14,
   "id": "1f9d56c3",
   "metadata": {},
   "outputs": [
    {
     "name": "stdout",
     "output_type": "stream",
     "text": [
      "dhoni is better than kohli\n"
     ]
    }
   ],
   "source": [
    "my_input=\"dhoni is better than kohli\"\n",
    "my_re_output=re.search(\".* is .*\",my_input)\n",
    "print(my_re_output.group())"
   ]
  },
  {
   "cell_type": "code",
   "execution_count": 20,
   "id": "5d17507c",
   "metadata": {},
   "outputs": [
    {
     "name": "stdout",
     "output_type": "stream",
     "text": [
      "dhoni is\n",
      "than kohli\n"
     ]
    }
   ],
   "source": [
    "my_input=\"dhoni is better than kohli\"\n",
    "my_re_output=re.search(\"(.*) better (.*)\",my_input)\n",
    "# print(my_re_output.group())\n",
    "print(my_re_output.group(1))\n",
    "print(my_re_output.group(2))"
   ]
  },
  {
   "cell_type": "code",
   "execution_count": 29,
   "id": "f0d39281",
   "metadata": {},
   "outputs": [
    {
     "name": "stdout",
     "output_type": "stream",
     "text": [
      "dhoni\n",
      "better than\n",
      "kohli\n"
     ]
    }
   ],
   "source": [
    "my_input=\"dhoni is better than kohli\"\n",
    "my_re_output=re.search(\"(.*) is (.*) (.*)\",my_input)\n",
    "# print(my_re_output.group())\n",
    "print(my_re_output.group(1))\n",
    "print(my_re_output.group(2))\n",
    "print(my_re_output.group(3))\n"
   ]
  },
  {
   "cell_type": "code",
   "execution_count": 36,
   "id": "b6998bd0",
   "metadata": {},
   "outputs": [
    {
     "name": "stdout",
     "output_type": "stream",
     "text": [
      "dhoni is\n",
      "than\n",
      "kohli\n"
     ]
    }
   ],
   "source": [
    "my_input=\"dhoni is better than kohli\"\n",
    "my_re_output=re.search(\"(.*?) better (.*) (.*)\",my_input)\n",
    "# print(my_re_output.group())\n",
    "print(my_re_output.group(1))\n",
    "print(my_re_output.group(2))\n",
    "print(my_re_output.group(3))"
   ]
  },
  {
   "cell_type": "code",
   "execution_count": 4,
   "id": "271dbc3b",
   "metadata": {},
   "outputs": [
    {
     "name": "stdout",
     "output_type": "stream",
     "text": [
      "['tt']\n",
      "[]\n"
     ]
    }
   ],
   "source": [
    "import re\n",
    "x=\"dhoni is better then kohli\"\n",
    "out=re.findall(\"tt\",x)\n",
    "out1=re.findall(\"ab\",x)\n",
    "print(out)\n",
    "print(out1)\n"
   ]
  },
  {
   "cell_type": "code",
   "execution_count": 23,
   "id": "8fc97abc",
   "metadata": {},
   "outputs": [
    {
     "name": "stdout",
     "output_type": "stream",
     "text": [
      "dhoni579is579better579then579kohli\n"
     ]
    }
   ],
   "source": [
    "import re\n",
    "x=\"dhoni is better then kohli\"\n",
    "out=re.sub(\"\\s\",\"579\",x)\n",
    "print(out)"
   ]
  },
  {
   "cell_type": "code",
   "execution_count": 21,
   "id": "cc54e87e",
   "metadata": {},
   "outputs": [
    {
     "name": "stdout",
     "output_type": "stream",
     "text": [
      "['dhoni', 'is', 'better then kohli']\n"
     ]
    }
   ],
   "source": [
    "import re\n",
    "x=\"dhoni is better then kohli\"\n",
    "out=re.split(\"\\s\",x,2)\n",
    "print(out)"
   ]
  },
  {
   "cell_type": "code",
   "execution_count": null,
   "id": "2ad49611",
   "metadata": {},
   "outputs": [],
   "source": []
  }
 ],
 "metadata": {
  "kernelspec": {
   "display_name": "Python 3",
   "language": "python",
   "name": "python3"
  },
  "language_info": {
   "codemirror_mode": {
    "name": "ipython",
    "version": 3
   },
   "file_extension": ".py",
   "mimetype": "text/x-python",
   "name": "python",
   "nbconvert_exporter": "python",
   "pygments_lexer": "ipython3",
   "version": "3.8.8"
  }
 },
 "nbformat": 4,
 "nbformat_minor": 5
}
