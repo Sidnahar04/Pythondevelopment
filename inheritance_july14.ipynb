{
 "cells": [
  {
   "cell_type": "code",
   "execution_count": 8,
   "id": "12dda991",
   "metadata": {},
   "outputs": [
    {
     "name": "stdout",
     "output_type": "stream",
     "text": [
      "Rahul\n",
      "246852\n",
      "20000\n"
     ]
    }
   ],
   "source": [
    "#parent class\n",
    "class Person(object):\n",
    "    def __init__(self,name,idnumber):\n",
    "        self.name=name\n",
    "        self.idnumber=idnumber\n",
    "    def display(self):\n",
    "        print(self.name)\n",
    "        print(self.idnumber)\n",
    "        print(self.salary)\n",
    "        \n",
    "class employee(Person):\n",
    "    def __init__(self,name,idnumber,salary,post):\n",
    "        self.salary=salary\n",
    "        self.post=post \n",
    "        Person.__init__(self,name,idnumber)  #init of parent class\n",
    "#creation of variable is instance        \n",
    "a=employee(\"Rahul\",246852,20000,\"intern\")\n",
    "a.display()"
   ]
  },
  {
   "cell_type": "code",
   "execution_count": 15,
   "id": "411112a5",
   "metadata": {},
   "outputs": [
    {
     "name": "stdout",
     "output_type": "stream",
     "text": [
      "Rahul\n",
      "246852\n"
     ]
    },
    {
     "ename": "AttributeError",
     "evalue": "'details' object has no attribute 'salary'",
     "output_type": "error",
     "traceback": [
      "\u001b[1;31m---------------------------------------------------------------------------\u001b[0m",
      "\u001b[1;31mAttributeError\u001b[0m                            Traceback (most recent call last)",
      "\u001b[1;32m<ipython-input-15-cdd7541804b8>\u001b[0m in \u001b[0;36m<module>\u001b[1;34m\u001b[0m\n\u001b[0;32m     16\u001b[0m \u001b[1;31m#creation of variable is instance\u001b[0m\u001b[1;33m\u001b[0m\u001b[1;33m\u001b[0m\u001b[1;33m\u001b[0m\u001b[0m\n\u001b[0;32m     17\u001b[0m \u001b[0ma\u001b[0m\u001b[1;33m=\u001b[0m\u001b[0mdetails\u001b[0m\u001b[1;33m(\u001b[0m\u001b[1;34m\"Rahul\"\u001b[0m\u001b[1;33m,\u001b[0m\u001b[1;36m246852\u001b[0m\u001b[1;33m,\u001b[0m\u001b[1;36m9\u001b[0m\u001b[1;33m,\u001b[0m\u001b[1;34m\"C\"\u001b[0m\u001b[1;33m)\u001b[0m\u001b[1;33m\u001b[0m\u001b[1;33m\u001b[0m\u001b[0m\n\u001b[1;32m---> 18\u001b[1;33m \u001b[0ma\u001b[0m\u001b[1;33m.\u001b[0m\u001b[0mdisplay\u001b[0m\u001b[1;33m(\u001b[0m\u001b[1;33m)\u001b[0m\u001b[1;33m\u001b[0m\u001b[1;33m\u001b[0m\u001b[0m\n\u001b[0m",
      "\u001b[1;32m<ipython-input-9-86a8b37caf64>\u001b[0m in \u001b[0;36mdisplay\u001b[1;34m(self)\u001b[0m\n\u001b[0;32m      7\u001b[0m         \u001b[0mprint\u001b[0m\u001b[1;33m(\u001b[0m\u001b[0mself\u001b[0m\u001b[1;33m.\u001b[0m\u001b[0mname\u001b[0m\u001b[1;33m)\u001b[0m\u001b[1;33m\u001b[0m\u001b[1;33m\u001b[0m\u001b[0m\n\u001b[0;32m      8\u001b[0m         \u001b[0mprint\u001b[0m\u001b[1;33m(\u001b[0m\u001b[0mself\u001b[0m\u001b[1;33m.\u001b[0m\u001b[0midnumber\u001b[0m\u001b[1;33m)\u001b[0m\u001b[1;33m\u001b[0m\u001b[1;33m\u001b[0m\u001b[0m\n\u001b[1;32m----> 9\u001b[1;33m         \u001b[0mprint\u001b[0m\u001b[1;33m(\u001b[0m\u001b[0mself\u001b[0m\u001b[1;33m.\u001b[0m\u001b[0msalary\u001b[0m\u001b[1;33m)\u001b[0m\u001b[1;33m\u001b[0m\u001b[1;33m\u001b[0m\u001b[0m\n\u001b[0m\u001b[0;32m     10\u001b[0m \u001b[1;33m\u001b[0m\u001b[0m\n\u001b[0;32m     11\u001b[0m \u001b[1;32mclass\u001b[0m \u001b[0memployee\u001b[0m\u001b[1;33m(\u001b[0m\u001b[0mPerson\u001b[0m\u001b[1;33m)\u001b[0m\u001b[1;33m:\u001b[0m\u001b[1;33m\u001b[0m\u001b[1;33m\u001b[0m\u001b[0m\n",
      "\u001b[1;31mAttributeError\u001b[0m: 'details' object has no attribute 'salary'"
     ]
    }
   ],
   "source": [
    "#parent class,Invoking with SUPER.\n",
    "class student(object):\n",
    "    def __init__(self,name,idnumber):\n",
    "        self.name=name\n",
    "        self.idnumber=idnumber\n",
    "    def display(self):\n",
    "        print(self.name)\n",
    "        print(self.idnumber)\n",
    "        print(self.class_)\n",
    "        \n",
    "class details(Person):\n",
    "    def __init__(self,name,idnumber,class_,division):\n",
    "        self.class_=class_\n",
    "        self.division=division \n",
    "        super().__init__(name,idnumber)  #init of parent class\n",
    "#creation of variable is instance        \n",
    "a=details(\"Rahul\",246852,9,\"C\")\n",
    "a.display()"
   ]
  },
  {
   "cell_type": "code",
   "execution_count": 18,
   "id": "576eaf13",
   "metadata": {},
   "outputs": [
    {
     "name": "stdout",
     "output_type": "stream",
     "text": [
      "Base1\n",
      "Base2\n",
      "derived\n",
      "Geek1 geek2\n"
     ]
    }
   ],
   "source": [
    "#multiple inheritance\n",
    "class Base1(object):\n",
    "    def __init__(self):\n",
    "        self.str1=\"Geek1\"\n",
    "        print(\"Base1\")\n",
    "class Base2(object):\n",
    "    def __init__(self):\n",
    "        self.str2=\"geek2\"\n",
    "        print(\"Base2\")\n",
    "\n",
    "class Derived(Base1,Base2):\n",
    "    def __init__(self):\n",
    "        Base1.__init__(self)\n",
    "        Base2.__init__(self)\n",
    "        print(\"derived\")\n",
    "        \n",
    "    def printstrs(self):\n",
    "        print(self.str1,self.str2)\n",
    "            \n",
    "ob=Derived()\n",
    "ob.printstrs()"
   ]
  },
  {
   "cell_type": "code",
   "execution_count": 24,
   "id": "f2673f92",
   "metadata": {},
   "outputs": [
    {
     "name": "stdout",
     "output_type": "stream",
     "text": [
      "Geek1 23 Noida\n"
     ]
    }
   ],
   "source": [
    "#multilevel inheritance \n",
    "class Base(object):\n",
    "    def __init__(self,name):\n",
    "        self.name=name\n",
    "    def getName(self):\n",
    "        return self.name\n",
    "    \n",
    "class Child(Base):\n",
    "    def __init__(self,name,age):\n",
    "        Base.__init__(self,name)\n",
    "        self.age=age\n",
    "    def getAge(self):\n",
    "        return self.age\n",
    "class Grandchild(Child):\n",
    "    def __init__(self,name,age,address):\n",
    "        Child.__init__(self,name,age)\n",
    "        self.address=address\n",
    "    def getAddress(self):\n",
    "        return self.address\n",
    "    \n",
    "g=Grandchild(\"Geek1\",23,\"Noida\")\n",
    "print(g.getName(),g.getAge(),g.getAddress())"
   ]
  },
  {
   "cell_type": "code",
   "execution_count": 27,
   "id": "4b82c09c",
   "metadata": {},
   "outputs": [
    {
     "name": "stdout",
     "output_type": "stream",
     "text": [
      "<__main__.Sales object at 0x000002398292DBB0>\n"
     ]
    }
   ],
   "source": [
    "class Sales():\n",
    "    def __init__(self,id):\n",
    "        self.id=id\n",
    "        id=100\n",
    "        \n",
    "val=Sales(123)\n",
    "print(val)"
   ]
  },
  {
   "cell_type": "code",
   "execution_count": null,
   "id": "f0de9ecd",
   "metadata": {},
   "outputs": [],
   "source": [
    "s=\"\""
   ]
  }
 ],
 "metadata": {
  "kernelspec": {
   "display_name": "Python 3",
   "language": "python",
   "name": "python3"
  },
  "language_info": {
   "codemirror_mode": {
    "name": "ipython",
    "version": 3
   },
   "file_extension": ".py",
   "mimetype": "text/x-python",
   "name": "python",
   "nbconvert_exporter": "python",
   "pygments_lexer": "ipython3",
   "version": "3.8.8"
  }
 },
 "nbformat": 4,
 "nbformat_minor": 5
}
