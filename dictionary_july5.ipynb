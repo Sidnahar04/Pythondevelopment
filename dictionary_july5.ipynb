{
 "cells": [
  {
   "cell_type": "code",
   "execution_count": null,
   "id": "e349a059",
   "metadata": {},
   "outputs": [],
   "source": [
    "# Set and dictionary is common in representation\n",
    "# Dictionary doesnot take index manipulation.\n",
    "# It has Key and Value pair.\n",
    "# Dictionary keys should be unique.\n",
    "# Hastable or hashing(Storing data with Key.\n",
    "# anything that is unmutable can be stores in dictionary\n",
    "# Dictionary is unordered collection."
   ]
  },
  {
   "cell_type": "code",
   "execution_count": 4,
   "id": "f6c7541c",
   "metadata": {},
   "outputs": [
    {
     "data": {
      "text/plain": [
       "dict"
      ]
     },
     "execution_count": 4,
     "metadata": {},
     "output_type": "execute_result"
    }
   ],
   "source": [
    "var={}\n",
    "type(var)"
   ]
  },
  {
   "cell_type": "code",
   "execution_count": 8,
   "id": "192b004d",
   "metadata": {},
   "outputs": [
    {
     "data": {
      "text/plain": [
       "'kohli'"
      ]
     },
     "execution_count": 8,
     "metadata": {},
     "output_type": "execute_result"
    }
   ],
   "source": [
    "a={\"name\":\"Dhoni\",\"age\":33,\"name\":\"kohli\"}\n",
    "a['name']"
   ]
  },
  {
   "cell_type": "code",
   "execution_count": 13,
   "id": "453dda64",
   "metadata": {},
   "outputs": [
    {
     "data": {
      "text/plain": [
       "{'name': 'Dhoni', 1: 'Welcome', 1.9: 'kohli', ('india', 'pak'): 'rohit'}"
      ]
     },
     "execution_count": 13,
     "metadata": {},
     "output_type": "execute_result"
    }
   ],
   "source": [
    "# different data types stores in dictionary\n",
    "b={\"name\":\"Dhoni\",1:33,1.9:\"kohli\",(\"india\",\"pak\"):\"rohit\",True:\"Welcome\"}\n",
    "b"
   ]
  },
  {
   "cell_type": "code",
   "execution_count": 17,
   "id": "8988786d",
   "metadata": {},
   "outputs": [
    {
     "data": {
      "text/plain": [
       "'ashwin'"
      ]
     },
     "execution_count": 17,
     "metadata": {},
     "output_type": "execute_result"
    }
   ],
   "source": [
    "c={True:\"dhoni\",1:\"kohli\",1.0:\"ashwin\"}\n",
    "c[True]"
   ]
  },
  {
   "cell_type": "code",
   "execution_count": 18,
   "id": "35e872f6",
   "metadata": {},
   "outputs": [
    {
     "data": {
      "text/plain": [
       "{'name': 'Dhoni',\n",
       " 1: 'Welcome',\n",
       " 1.9: 'kohli',\n",
       " ('india', 'pak'): 'rohit',\n",
       " 'country': 'India'}"
      ]
     },
     "execution_count": 18,
     "metadata": {},
     "output_type": "execute_result"
    }
   ],
   "source": [
    "b['country']=\"India\"\n",
    "b"
   ]
  },
  {
   "cell_type": "code",
   "execution_count": 19,
   "id": "e7b9fe1e",
   "metadata": {},
   "outputs": [
    {
     "data": {
      "text/plain": [
       "{'name': ['dhoni', 'kohli']}"
      ]
     },
     "execution_count": 19,
     "metadata": {},
     "output_type": "execute_result"
    }
   ],
   "source": [
    "c={\"name\":[\"dhoni\",\"kohli\"]}\n",
    "c"
   ]
  },
  {
   "cell_type": "code",
   "execution_count": 22,
   "id": "a3715fe1",
   "metadata": {},
   "outputs": [
    {
     "name": "stdout",
     "output_type": "stream",
     "text": [
      "dhoni\n"
     ]
    }
   ],
   "source": [
    "print(c[\"name\"][0])"
   ]
  },
  {
   "cell_type": "code",
   "execution_count": 23,
   "id": "6afafd33",
   "metadata": {},
   "outputs": [
    {
     "data": {
      "text/plain": [
       "['dhoni', 'kohli']"
      ]
     },
     "execution_count": 23,
     "metadata": {},
     "output_type": "execute_result"
    }
   ],
   "source": [
    "c[\"name\"][0:2]"
   ]
  },
  {
   "cell_type": "code",
   "execution_count": 25,
   "id": "4555241e",
   "metadata": {},
   "outputs": [
    {
     "data": {
      "text/plain": [
       "'pak'"
      ]
     },
     "execution_count": 25,
     "metadata": {},
     "output_type": "execute_result"
    }
   ],
   "source": [
    "# nested dictionary\n",
    "d={\"name\":{\"names\":[\"india\",\"pak\"]}}\n",
    "d[\"name\"][\"names\"][1]\n"
   ]
  },
  {
   "cell_type": "code",
   "execution_count": 26,
   "id": "b637a924",
   "metadata": {},
   "outputs": [
    {
     "data": {
      "text/plain": [
       "'sorry key not found'"
      ]
     },
     "execution_count": 26,
     "metadata": {},
     "output_type": "execute_result"
    }
   ],
   "source": [
    "e={\"name\":{\"names\":[\"india\",\"pak\"]}}\n",
    "output=var.get('country',\"sorry key not found\")\n",
    "output"
   ]
  },
  {
   "cell_type": "code",
   "execution_count": 29,
   "id": "fc618e7f",
   "metadata": {},
   "outputs": [
    {
     "data": {
      "text/plain": [
       "{'name': 'dhoni', 'age': 33}"
      ]
     },
     "execution_count": 29,
     "metadata": {},
     "output_type": "execute_result"
    }
   ],
   "source": [
    "# adding dictionary maethod 1\n",
    "var={\"name\":\"dhoni\"}\n",
    "var1={\"age\":33}\n",
    "var.update(var1)\n",
    "var"
   ]
  },
  {
   "cell_type": "code",
   "execution_count": 31,
   "id": "fc5981b7",
   "metadata": {},
   "outputs": [
    {
     "data": {
      "text/plain": [
       "{'name': 'dhoni', 'age': 33}"
      ]
     },
     "execution_count": 31,
     "metadata": {},
     "output_type": "execute_result"
    }
   ],
   "source": [
    "# addition of dictionary method 2\n",
    "output={**var,**var1}\n",
    "output"
   ]
  },
  {
   "cell_type": "code",
   "execution_count": 36,
   "id": "72d05cff",
   "metadata": {},
   "outputs": [
    {
     "name": "stdout",
     "output_type": "stream",
     "text": [
      "{'name': 'dhoni'}\n"
     ]
    },
    {
     "data": {
      "text/plain": [
       "dict"
      ]
     },
     "execution_count": 36,
     "metadata": {},
     "output_type": "execute_result"
    }
   ],
   "source": [
    "# Json\n",
    "# str to dict\n",
    "import json\n",
    "f='{\"name\":\"dhoni\"}'\n",
    "output=json.loads(f)\n",
    "print(output)\n",
    "type(output)"
   ]
  },
  {
   "cell_type": "code",
   "execution_count": 37,
   "id": "0fc22555",
   "metadata": {},
   "outputs": [
    {
     "name": "stdout",
     "output_type": "stream",
     "text": [
      "{\"name\": \"dhoni\"}\n"
     ]
    },
    {
     "data": {
      "text/plain": [
       "str"
      ]
     },
     "execution_count": 37,
     "metadata": {},
     "output_type": "execute_result"
    }
   ],
   "source": [
    "#dict to str\n",
    "import json\n",
    "f={\"name\":\"dhoni\"}\n",
    "output=json.dumps(f)\n",
    "print(output)\n",
    "type(output)"
   ]
  },
  {
   "cell_type": "code",
   "execution_count": null,
   "id": "bcc90f61",
   "metadata": {},
   "outputs": [],
   "source": []
  }
 ],
 "metadata": {
  "kernelspec": {
   "display_name": "Python 3",
   "language": "python",
   "name": "python3"
  },
  "language_info": {
   "codemirror_mode": {
    "name": "ipython",
    "version": 3
   },
   "file_extension": ".py",
   "mimetype": "text/x-python",
   "name": "python",
   "nbconvert_exporter": "python",
   "pygments_lexer": "ipython3",
   "version": "3.8.8"
  }
 },
 "nbformat": 4,
 "nbformat_minor": 5
}
