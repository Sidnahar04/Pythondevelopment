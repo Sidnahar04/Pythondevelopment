{
 "cells": [
  {
   "cell_type": "code",
   "execution_count": 1,
   "id": "fa174869",
   "metadata": {},
   "outputs": [],
   "source": [
    "#multithreading --->process runs on single core--->if single core got failed-->thread cracks\n",
    "#multiprocessing--->process runs on single core--->if single core got failed--->thread runs on next core\n",
    "#concurrency(Asyncio)--->Asynchronous input/output\n",
    "#4 process running--->(i have 4 core)-->process will be equally distributed"
   ]
  },
  {
   "cell_type": "code",
   "execution_count": null,
   "id": "102a0eeb",
   "metadata": {},
   "outputs": [],
   "source": []
  }
 ],
 "metadata": {
  "kernelspec": {
   "display_name": "Python 3",
   "language": "python",
   "name": "python3"
  },
  "language_info": {
   "codemirror_mode": {
    "name": "ipython",
    "version": 3
   },
   "file_extension": ".py",
   "mimetype": "text/x-python",
   "name": "python",
   "nbconvert_exporter": "python",
   "pygments_lexer": "ipython3",
   "version": "3.8.8"
  }
 },
 "nbformat": 4,
 "nbformat_minor": 5
}
