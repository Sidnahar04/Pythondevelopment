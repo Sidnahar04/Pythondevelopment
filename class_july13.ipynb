{
 "cells": [
  {
   "cell_type": "code",
   "execution_count": 7,
   "id": "353040d2",
   "metadata": {},
   "outputs": [
    {
     "name": "stdout",
     "output_type": "stream",
     "text": [
      "hello\n",
      "welcome\n"
     ]
    },
    {
     "data": {
      "text/plain": [
       "'class my server:created by sid\\n        name:Siddharth \\n        data:Its important'"
      ]
     },
     "execution_count": 7,
     "metadata": {},
     "output_type": "execute_result"
    }
   ],
   "source": [
    "class my_server():\n",
    "    \"\"\"class my server:created by sid\n",
    "        name:Siddharth \n",
    "        data:Its important\"\"\"\n",
    "    def hostname(self):\n",
    "        print(\"hello\")\n",
    "    def login(self):\n",
    "        print(\"welcome\")\n",
    "my=my_server()\n",
    "my.hostname()\n",
    "my.login()\n",
    "my.__doc__"
   ]
  },
  {
   "cell_type": "code",
   "execution_count": 13,
   "id": "552e9469",
   "metadata": {},
   "outputs": [
    {
     "name": "stdout",
     "output_type": "stream",
     "text": [
      "hello\n"
     ]
    },
    {
     "ename": "AttributeError",
     "evalue": "'my_server' object has no attribute 'login'",
     "output_type": "error",
     "traceback": [
      "\u001b[1;31m---------------------------------------------------------------------------\u001b[0m",
      "\u001b[1;31mAttributeError\u001b[0m                            Traceback (most recent call last)",
      "\u001b[1;32m<ipython-input-13-9493bcf502ec>\u001b[0m in \u001b[0;36m<module>\u001b[1;34m\u001b[0m\n\u001b[0;32m     10\u001b[0m \u001b[0mmy\u001b[0m\u001b[1;33m=\u001b[0m\u001b[0mmy_server\u001b[0m\u001b[1;33m(\u001b[0m\u001b[1;33m)\u001b[0m\u001b[1;33m\u001b[0m\u001b[1;33m\u001b[0m\u001b[0m\n\u001b[0;32m     11\u001b[0m \u001b[0mmy\u001b[0m\u001b[1;33m.\u001b[0m\u001b[0mhostname\u001b[0m\u001b[1;33m(\u001b[0m\u001b[1;33m)\u001b[0m\u001b[1;33m\u001b[0m\u001b[1;33m\u001b[0m\u001b[0m\n\u001b[1;32m---> 12\u001b[1;33m \u001b[0mmy\u001b[0m\u001b[1;33m.\u001b[0m\u001b[0mlogin\u001b[0m\u001b[1;33m(\u001b[0m\u001b[1;33m)\u001b[0m\u001b[1;33m\u001b[0m\u001b[1;33m\u001b[0m\u001b[0m\n\u001b[0m\u001b[0;32m     13\u001b[0m \u001b[0mmy\u001b[0m\u001b[1;33m.\u001b[0m\u001b[0m__mydata\u001b[0m\u001b[1;33m(\u001b[0m\u001b[1;33m)\u001b[0m\u001b[1;33m\u001b[0m\u001b[1;33m\u001b[0m\u001b[0m\n",
      "\u001b[1;31mAttributeError\u001b[0m: 'my_server' object has no attribute 'login'"
     ]
    }
   ],
   "source": [
    "#Oops concept-access specifier private,public and protected.\n",
    "#  \"__\" it becomes private,(double underscore).The object/variable becomes private.\n",
    "#\n",
    "class my_server():\n",
    "    __mydata:\"sid\"\n",
    "    def hostname(self):\n",
    "        print(\"hello\")\n",
    "    def __login(self):\n",
    "        print(\"welcome\")\n",
    "my=my_server()\n",
    "my.hostname()\n",
    "my.login()\n",
    "my.__mydata()"
   ]
  },
  {
   "cell_type": "code",
   "execution_count": 22,
   "id": "b99dca27",
   "metadata": {},
   "outputs": [
    {
     "name": "stdout",
     "output_type": "stream",
     "text": [
      "world\n"
     ]
    }
   ],
   "source": [
    "#over\n",
    "class server():\n",
    "    def host_name():\n",
    "        print(\"hello\")\n",
    "    def host_name():\n",
    "        print(\"world\")\n",
    "        \n",
    "my=server\n",
    "my.host_name()"
   ]
  },
  {
   "cell_type": "code",
   "execution_count": 24,
   "id": "81d29de3",
   "metadata": {},
   "outputs": [
    {
     "name": "stdout",
     "output_type": "stream",
     "text": [
      "hello\n"
     ]
    }
   ],
   "source": [
    "#overriding of function.\n",
    "class server():\n",
    "    def host_name():\n",
    "        print(\"hello\")\n",
    "    def __host_name():\n",
    "        print(\"world\")\n",
    "        \n",
    "my=server\n",
    "my.host_name()"
   ]
  },
  {
   "cell_type": "code",
   "execution_count": 28,
   "id": "3669d4b6",
   "metadata": {},
   "outputs": [
    {
     "name": "stdout",
     "output_type": "stream",
     "text": [
      "hello\n",
      "world\n"
     ]
    }
   ],
   "source": [
    "#inheritance.\n",
    "class server():\n",
    "    def host_name(self):\n",
    "        print(\"hello\")\n",
    "class server2(server):\n",
    "    def host_name2(self):\n",
    "        print(\"world\")\n",
    "        \n",
    "my=server2()\n",
    "my.host_name()\n",
    "my.host_name2()"
   ]
  },
  {
   "cell_type": "code",
   "execution_count": 31,
   "id": "dab1a2d3",
   "metadata": {},
   "outputs": [
    {
     "name": "stdout",
     "output_type": "stream",
     "text": [
      "202220\n",
      "boss 202220\n"
     ]
    }
   ],
   "source": [
    "#inheritance with constructor or  Init.\n",
    "class server():\n",
    "    def __init__(self,ip,pwd):\n",
    "        self.a=ip\n",
    "        self.b=pwd\n",
    "    def host_name(self):\n",
    "        print(self.a)\n",
    "class server2(server):\n",
    "    def host_name2(self):\n",
    "        print(self.b,self.a)\n",
    "        \n",
    "my=server2(\"202220\",\"boss\")\n",
    "my.host_name()\n",
    "my.host_name2()"
   ]
  },
  {
   "cell_type": "code",
   "execution_count": 41,
   "id": "88dd35b7",
   "metadata": {},
   "outputs": [
    {
     "ename": "AttributeError",
     "evalue": "'server2' object has no attribute 'a'",
     "output_type": "error",
     "traceback": [
      "\u001b[1;31m---------------------------------------------------------------------------\u001b[0m",
      "\u001b[1;31mAttributeError\u001b[0m                            Traceback (most recent call last)",
      "\u001b[1;32m<ipython-input-41-89898bcbceb0>\u001b[0m in \u001b[0;36m<module>\u001b[1;34m\u001b[0m\n\u001b[0;32m     14\u001b[0m \u001b[1;33m\u001b[0m\u001b[0m\n\u001b[0;32m     15\u001b[0m \u001b[0mmy\u001b[0m\u001b[1;33m=\u001b[0m\u001b[0mserver2\u001b[0m\u001b[1;33m(\u001b[0m\u001b[1;34m\"202220\"\u001b[0m\u001b[1;33m,\u001b[0m\u001b[1;34m\"boss\"\u001b[0m\u001b[1;33m)\u001b[0m\u001b[1;33m\u001b[0m\u001b[1;33m\u001b[0m\u001b[0m\n\u001b[1;32m---> 16\u001b[1;33m \u001b[0mmy\u001b[0m\u001b[1;33m.\u001b[0m\u001b[0mhost_name\u001b[0m\u001b[1;33m(\u001b[0m\u001b[1;33m)\u001b[0m\u001b[1;33m\u001b[0m\u001b[1;33m\u001b[0m\u001b[0m\n\u001b[0m\u001b[0;32m     17\u001b[0m \u001b[0mmy\u001b[0m\u001b[1;33m.\u001b[0m\u001b[0mhost_name2\u001b[0m\u001b[1;33m(\u001b[0m\u001b[1;33m)\u001b[0m                          \u001b[1;31m#Do tomorrow and we want call server2 not server\u001b[0m\u001b[1;33m\u001b[0m\u001b[1;33m\u001b[0m\u001b[0m\n",
      "\u001b[1;32m<ipython-input-41-89898bcbceb0>\u001b[0m in \u001b[0;36mhost_name\u001b[1;34m(self)\u001b[0m\n\u001b[0;32m      5\u001b[0m         \u001b[0mself\u001b[0m\u001b[1;33m.\u001b[0m\u001b[0mb\u001b[0m\u001b[1;33m=\u001b[0m\u001b[0mpwd\u001b[0m\u001b[1;33m\u001b[0m\u001b[1;33m\u001b[0m\u001b[0m\n\u001b[0;32m      6\u001b[0m     \u001b[1;32mdef\u001b[0m \u001b[0mhost_name\u001b[0m\u001b[1;33m(\u001b[0m\u001b[0mself\u001b[0m\u001b[1;33m)\u001b[0m\u001b[1;33m:\u001b[0m\u001b[1;33m\u001b[0m\u001b[1;33m\u001b[0m\u001b[0m\n\u001b[1;32m----> 7\u001b[1;33m         \u001b[0mprint\u001b[0m\u001b[1;33m(\u001b[0m\u001b[0mself\u001b[0m\u001b[1;33m.\u001b[0m\u001b[0ma\u001b[0m\u001b[1;33m)\u001b[0m\u001b[1;33m\u001b[0m\u001b[1;33m\u001b[0m\u001b[0m\n\u001b[0m\u001b[0;32m      8\u001b[0m \u001b[1;32mclass\u001b[0m \u001b[0mserver2\u001b[0m\u001b[1;33m(\u001b[0m\u001b[0mserver\u001b[0m\u001b[1;33m)\u001b[0m\u001b[1;33m:\u001b[0m\u001b[1;33m\u001b[0m\u001b[1;33m\u001b[0m\u001b[0m\n\u001b[0;32m      9\u001b[0m     \u001b[1;32mdef\u001b[0m \u001b[0m__init__\u001b[0m\u001b[1;33m(\u001b[0m\u001b[0mself\u001b[0m\u001b[1;33m,\u001b[0m\u001b[0mip\u001b[0m\u001b[1;33m,\u001b[0m\u001b[0mpwd\u001b[0m\u001b[1;33m)\u001b[0m\u001b[1;33m:\u001b[0m\u001b[1;33m\u001b[0m\u001b[1;33m\u001b[0m\u001b[0m\n",
      "\u001b[1;31mAttributeError\u001b[0m: 'server2' object has no attribute 'a'"
     ]
    }
   ],
   "source": [
    "\n",
    "class server():\n",
    "    def __init__(self,ip,pwd):\n",
    "        self.a=ip\n",
    "        self.b=pwd\n",
    "    def host_name(self):\n",
    "        print(self.a)\n",
    "class server2(server):\n",
    "    def __init__(self,ip,pwd):\n",
    "        self.c=ip\n",
    "        self.d=pwd\n",
    "    def host_name2(self):\n",
    "        print(self.c,self.d)\n",
    "        \n",
    "my=server2(\"202220\",\"boss\")\n",
    "my.host_name()   \n",
    "my.host_name2()                          #Do tomorrow and we want call server2 not server"
   ]
  },
  {
   "cell_type": "code",
   "execution_count": 2,
   "id": "db70f5d7",
   "metadata": {},
   "outputs": [
    {
     "ename": "AttributeError",
     "evalue": "'server2' object has no attribute 'host_name'",
     "output_type": "error",
     "traceback": [
      "\u001b[1;31m---------------------------------------------------------------------------\u001b[0m",
      "\u001b[1;31mAttributeError\u001b[0m                            Traceback (most recent call last)",
      "\u001b[1;32m<ipython-input-2-7bf0184ea35e>\u001b[0m in \u001b[0;36m<module>\u001b[1;34m\u001b[0m\n\u001b[0;32m     14\u001b[0m \u001b[1;33m\u001b[0m\u001b[0m\n\u001b[0;32m     15\u001b[0m \u001b[0mmy\u001b[0m\u001b[1;33m=\u001b[0m\u001b[0mserver2\u001b[0m\u001b[1;33m(\u001b[0m\u001b[1;34m\"202220\"\u001b[0m\u001b[1;33m,\u001b[0m\u001b[1;34m\"boss\"\u001b[0m\u001b[1;33m)\u001b[0m\u001b[1;33m\u001b[0m\u001b[1;33m\u001b[0m\u001b[0m\n\u001b[1;32m---> 16\u001b[1;33m \u001b[0mmy\u001b[0m\u001b[1;33m.\u001b[0m\u001b[0mhost_name\u001b[0m\u001b[1;33m(\u001b[0m\u001b[1;33m)\u001b[0m\u001b[1;33m\u001b[0m\u001b[1;33m\u001b[0m\u001b[0m\n\u001b[0m\u001b[0;32m     17\u001b[0m \u001b[0mmy\u001b[0m\u001b[1;33m.\u001b[0m\u001b[0mhost_name2\u001b[0m\u001b[1;33m(\u001b[0m\u001b[1;33m)\u001b[0m\u001b[1;33m\u001b[0m\u001b[1;33m\u001b[0m\u001b[0m\n",
      "\u001b[1;31mAttributeError\u001b[0m: 'server2' object has no attribute 'host_name'"
     ]
    }
   ],
   "source": [
    "class server():\n",
    "    def __init__(self,ip,pwd):\n",
    "        self.a=ip\n",
    "        self.b=pwd\n",
    "    def host_name(self):\n",
    "        print(self.a)\n",
    "class server2():\n",
    "    def __init__(self,ip,pwd):\n",
    "        self.c=ip\n",
    "        self.d=pwd\n",
    "        server.__init__(self,ip,pwd)\n",
    "    def host_name2(self):\n",
    "        print(self.c,self.d)\n",
    "        \n",
    "my=server2(\"202220\",\"boss\")\n",
    "my.host_name()   \n",
    "my.host_name2()     "
   ]
  },
  {
   "cell_type": "code",
   "execution_count": 49,
   "id": "a8ec4f9e",
   "metadata": {},
   "outputs": [
    {
     "name": "stdout",
     "output_type": "stream",
     "text": [
      "d\n"
     ]
    }
   ],
   "source": [
    "#polymorphism\n",
    "class A:\n",
    "    def fun(self):\n",
    "        print(\"a\")\n",
    "class B(A):\n",
    "    def fun(self):\n",
    "        print(\"b\")\n",
    "class C(A):\n",
    "    def fun(self):\n",
    "        print(\"c\")\n",
    "class D(B,C):\n",
    "    def fun(self):\n",
    "        print(\"d\")\n",
    "    \n",
    "d=D()\n",
    "d.fun()"
   ]
  },
  {
   "cell_type": "code",
   "execution_count": 50,
   "id": "3569684d",
   "metadata": {},
   "outputs": [
    {
     "name": "stdout",
     "output_type": "stream",
     "text": [
      "b\n"
     ]
    }
   ],
   "source": [
    "\n",
    "class A:\n",
    "    def fun(self):\n",
    "        print(\"a\")\n",
    "class B(A):\n",
    "    def fun(self):\n",
    "        print(\"b\")\n",
    "class C(A):\n",
    "    def fun(self):\n",
    "        print(\"c\")\n",
    "class D(B,C):\n",
    "    pass       #MRO reolution method.whatever that is nearby that will get printed.\n",
    "    \n",
    "d=D()\n",
    "d.fun()"
   ]
  },
  {
   "cell_type": "code",
   "execution_count": null,
   "id": "d96629f3",
   "metadata": {},
   "outputs": [],
   "source": []
  }
 ],
 "metadata": {
  "kernelspec": {
   "display_name": "Python 3",
   "language": "python",
   "name": "python3"
  },
  "language_info": {
   "codemirror_mode": {
    "name": "ipython",
    "version": 3
   },
   "file_extension": ".py",
   "mimetype": "text/x-python",
   "name": "python",
   "nbconvert_exporter": "python",
   "pygments_lexer": "ipython3",
   "version": "3.8.8"
  }
 },
 "nbformat": 4,
 "nbformat_minor": 5
}
