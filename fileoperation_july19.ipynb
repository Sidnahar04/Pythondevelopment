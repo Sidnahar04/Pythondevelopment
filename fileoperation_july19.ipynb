{
 "cells": [
  {
   "cell_type": "code",
   "execution_count": 2,
   "id": "ae508a92",
   "metadata": {},
   "outputs": [],
   "source": [
    "my_file_obj=open(\"sid.txt\",\"w\")\n",
    "my_file_obj.write(\"Welcome to programming\")\n",
    "my_file_obj.close()"
   ]
  },
  {
   "cell_type": "code",
   "execution_count": 4,
   "id": "bf01d105",
   "metadata": {},
   "outputs": [
    {
     "ename": "AttributeError",
     "evalue": "'_io.TextIOWrapper' object has no attribute 'writeb'",
     "output_type": "error",
     "traceback": [
      "\u001b[1;31m---------------------------------------------------------------------------\u001b[0m",
      "\u001b[1;31mAttributeError\u001b[0m                            Traceback (most recent call last)",
      "\u001b[1;32m<ipython-input-4-d9402c77ea8f>\u001b[0m in \u001b[0;36m<module>\u001b[1;34m\u001b[0m\n\u001b[0;32m      1\u001b[0m \u001b[0mmy_file_obj\u001b[0m\u001b[1;33m=\u001b[0m\u001b[0mopen\u001b[0m\u001b[1;33m(\u001b[0m\u001b[1;34m\"sid.txt\"\u001b[0m\u001b[1;33m,\u001b[0m\u001b[1;34m\"w\"\u001b[0m\u001b[1;33m)\u001b[0m\u001b[1;33m\u001b[0m\u001b[1;33m\u001b[0m\u001b[0m\n\u001b[1;32m----> 2\u001b[1;33m \u001b[0mmy_file_obj\u001b[0m\u001b[1;33m.\u001b[0m\u001b[0mwriteb\u001b[0m\u001b[1;33m(\u001b[0m\u001b[1;34m\"Welcome to programming\"\u001b[0m\u001b[1;33m)\u001b[0m\u001b[1;33m\u001b[0m\u001b[1;33m\u001b[0m\u001b[0m\n\u001b[0m\u001b[0;32m      3\u001b[0m \u001b[1;31m#error ocuured due to b and the opened file will not get closed for that we can use WITH.\u001b[0m\u001b[1;33m\u001b[0m\u001b[1;33m\u001b[0m\u001b[1;33m\u001b[0m\u001b[0m\n\u001b[0;32m      4\u001b[0m \u001b[0mmy_file_obj\u001b[0m\u001b[1;33m.\u001b[0m\u001b[0mclose\u001b[0m\u001b[1;33m(\u001b[0m\u001b[1;33m)\u001b[0m\u001b[1;33m\u001b[0m\u001b[1;33m\u001b[0m\u001b[0m\n",
      "\u001b[1;31mAttributeError\u001b[0m: '_io.TextIOWrapper' object has no attribute 'writeb'"
     ]
    }
   ],
   "source": [
    "my_file_obj=open(\"sid.txt\",\"w\")\n",
    "my_file_obj.writeb(\"Welcome to programming\")  \n",
    "#error ocuured due to b and the opened file will not get closed for that we can use WITH.\n",
    "my_file_obj.close()"
   ]
  },
  {
   "cell_type": "code",
   "execution_count": 12,
   "id": "b1c95eed",
   "metadata": {},
   "outputs": [],
   "source": [
    "#context manager\n",
    "with open(\"sid.txt\",\"w\") as my_file:\n",
    "    my_file.write(\"hello all\")    #everytime we write the older gets cleared.we use append \"a\""
   ]
  },
  {
   "cell_type": "code",
   "execution_count": 13,
   "id": "395514b9",
   "metadata": {},
   "outputs": [
    {
     "name": "stdout",
     "output_type": "stream",
     "text": [
      "enter your text:Helo all\n"
     ]
    }
   ],
   "source": [
    "with open(\"sid.txt\",\"a\") as my_file:\n",
    "    content=input(\"enter your text:\")\n",
    "    my_file.write(\"\\n\")\n",
    "    my_file.write(content)"
   ]
  },
  {
   "cell_type": "code",
   "execution_count": 18,
   "id": "6520c644",
   "metadata": {},
   "outputs": [
    {
     "name": "stdout",
     "output_type": "stream",
     "text": [
      "hello all\n",
      "Helo all\n"
     ]
    }
   ],
   "source": [
    "with open(\"sid.txt\",\"r\") as my_file_n:\n",
    "          file_content=my_file_n.read()\n",
    "          print(file_content)"
   ]
  },
  {
   "cell_type": "code",
   "execution_count": 21,
   "id": "74ca613d",
   "metadata": {},
   "outputs": [
    {
     "name": "stdout",
     "output_type": "stream",
     "text": [
      "hello all\n",
      "\n"
     ]
    }
   ],
   "source": [
    "with open(\"sid.txt\",\"r\") as my_file_n:\n",
    "          file_content=my_file_n.readline()  #read a single line\n",
    "          print(file_content)"
   ]
  },
  {
   "cell_type": "code",
   "execution_count": 22,
   "id": "6ccf982b",
   "metadata": {},
   "outputs": [
    {
     "name": "stdout",
     "output_type": "stream",
     "text": [
      "hello all\n",
      "Helo all\n",
      "\n"
     ]
    }
   ],
   "source": [
    "with open(\"sid.txt\",\"r\") as my_file_n:\n",
    "          file_content=my_file_n.read()\n",
    "          print(file_content)\n",
    "          file_content1=my_file_n.read() #2nd line\n",
    "          print(file_content1)"
   ]
  },
  {
   "cell_type": "code",
   "execution_count": 25,
   "id": "124e98e1",
   "metadata": {},
   "outputs": [
    {
     "name": "stdout",
     "output_type": "stream",
     "text": [
      "['hello all\\n', 'Helo all']\n"
     ]
    }
   ],
   "source": [
    "with open(\"sid.txt\",\"r\") as my_file_n:\n",
    "          file_content=my_file_n.readlines()\n",
    "          print(file_content)   #read as a list"
   ]
  },
  {
   "cell_type": "code",
   "execution_count": 35,
   "id": "41462c9b",
   "metadata": {},
   "outputs": [
    {
     "name": "stdout",
     "output_type": "stream",
     "text": [
      "[]\n"
     ]
    }
   ],
   "source": [
    "with open(\"sid.txt\",\"w+\") as my_file:\n",
    "    my_file.write(\"India won the match\")\n",
    "    file_content=my_file.readlines()\n",
    "    print(file_content)"
   ]
  },
  {
   "cell_type": "code",
   "execution_count": 36,
   "id": "f504d5de",
   "metadata": {},
   "outputs": [
    {
     "name": "stdout",
     "output_type": "stream",
     "text": [
      "['India won the match\\n', 'India vs sri lanka']\n"
     ]
    }
   ],
   "source": [
    "with open(\"sid.txt\",\"a+\") as my_file:\n",
    "    my_file.write(\"\\nIndia vs sri lanka\")  #adding in a file\n",
    "    my_file.seek(0)   #reading it too\n",
    "    file_content=my_file.readlines()\n",
    "    print(file_content)"
   ]
  },
  {
   "cell_type": "code",
   "execution_count": 37,
   "id": "740fec43",
   "metadata": {},
   "outputs": [
    {
     "name": "stdout",
     "output_type": "stream",
     "text": [
      "['India won the match\\n', 'India vs sri lanka']\n"
     ]
    }
   ],
   "source": [
    "with open (\"sid.txt\",\"r+\") as my_file:\n",
    "    file_content=my_file.readlines()\n",
    "    print(file_content)\n",
    "    my_file_obj.write(\"\\n good match\")"
   ]
  },
  {
   "cell_type": "code",
   "execution_count": 1,
   "id": "4f161f3f",
   "metadata": {},
   "outputs": [
    {
     "name": "stdout",
     "output_type": "stream",
     "text": [
      "[]\n"
     ]
    }
   ],
   "source": [
    "with open(\"sid.txt\",\"a+\") as my_file:\n",
    "    my_file.write(\"\\nIndia vs sri lanka\")  #adding in a file\n",
    "    my_file.tell()\n",
    "    file_content=my_file.readlines()\n",
    "    print(file_content)\n",
    "    \n",
    "    #tell tomorrow what is difference between tell and seek"
   ]
  }
 ],
 "metadata": {
  "kernelspec": {
   "display_name": "Python 3",
   "language": "python",
   "name": "python3"
  },
  "language_info": {
   "codemirror_mode": {
    "name": "ipython",
    "version": 3
   },
   "file_extension": ".py",
   "mimetype": "text/x-python",
   "name": "python",
   "nbconvert_exporter": "python",
   "pygments_lexer": "ipython3",
   "version": "3.8.8"
  }
 },
 "nbformat": 4,
 "nbformat_minor": 5
}
