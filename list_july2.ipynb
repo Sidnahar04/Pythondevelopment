{
 "cells": [
  {
   "cell_type": "code",
   "execution_count": 4,
   "id": "98f459e5",
   "metadata": {},
   "outputs": [],
   "source": [
    "mylist=['dhoni','kohli',5,7,3]"
   ]
  },
  {
   "cell_type": "code",
   "execution_count": 5,
   "id": "32cfdd86",
   "metadata": {},
   "outputs": [
    {
     "name": "stdout",
     "output_type": "stream",
     "text": [
      "['dhoni', 'kohli', 5, 7, 3]\n"
     ]
    },
    {
     "data": {
      "text/plain": [
       "list"
      ]
     },
     "execution_count": 5,
     "metadata": {},
     "output_type": "execute_result"
    }
   ],
   "source": [
    "print(mylist)\n",
    "type(mylist)"
   ]
  },
  {
   "cell_type": "code",
   "execution_count": 33,
   "id": "700222c6",
   "metadata": {},
   "outputs": [
    {
     "data": {
      "text/plain": [
       "['MS', 'Dhoni', 'Aswin']"
      ]
     },
     "execution_count": 33,
     "metadata": {},
     "output_type": "execute_result"
    }
   ],
   "source": [
    "x=[\"MS\"]\n",
    "y=[\"Dhoni\",\"Aswin\"]\n",
    "z=x+y\n",
    "z"
   ]
  },
  {
   "cell_type": "code",
   "execution_count": 7,
   "id": "b3dd65d4",
   "metadata": {},
   "outputs": [],
   "source": [
    "# mylist.insert(1,\"rohit\")\n",
    "# mylist"
   ]
  },
  {
   "cell_type": "code",
   "execution_count": 10,
   "id": "38d5e6be",
   "metadata": {},
   "outputs": [],
   "source": [
    "# mylist.append(\"cool\")\n",
    "# mylist"
   ]
  },
  {
   "cell_type": "code",
   "execution_count": 11,
   "id": "52c44933",
   "metadata": {},
   "outputs": [
    {
     "data": {
      "text/plain": [
       "['dhoni', 'rohit', 'kohli', 5, 7, 3, 'cool', ['cool', 'myy']]"
      ]
     },
     "execution_count": 11,
     "metadata": {},
     "output_type": "execute_result"
    }
   ],
   "source": [
    "# mylist.append([\"cool\",\"myy\"])\n",
    "# mylist"
   ]
  },
  {
   "cell_type": "code",
   "execution_count": 37,
   "id": "fc2d078f",
   "metadata": {},
   "outputs": [
    {
     "data": {
      "text/plain": [
       "['dhoni', 'kohli', 5, 7, 3, 'sid', 'xyz']"
      ]
     },
     "execution_count": 37,
     "metadata": {},
     "output_type": "execute_result"
    }
   ],
   "source": [
    "mylist.extend([\"sid\",\"xyz\"])\n",
    "mylist"
   ]
  },
  {
   "cell_type": "code",
   "execution_count": 12,
   "id": "9b1cb9da",
   "metadata": {},
   "outputs": [
    {
     "data": {
      "text/plain": [
       "['dhoni', 'rohit', 'kohli', 5, 7, 3, 'cool']"
      ]
     },
     "execution_count": 12,
     "metadata": {},
     "output_type": "execute_result"
    }
   ],
   "source": [
    "mylist.pop() #removes 2nd index\n",
    "mylist"
   ]
  },
  {
   "cell_type": "code",
   "execution_count": 41,
   "id": "d1ce0285",
   "metadata": {},
   "outputs": [
    {
     "data": {
      "text/plain": [
       "['kohli', 3, 'sid']"
      ]
     },
     "execution_count": 41,
     "metadata": {},
     "output_type": "execute_result"
    }
   ],
   "source": [
    "# mylist.remove(\"dhoni\") #specific thing should be given\n",
    "# mylist"
   ]
  },
  {
   "cell_type": "code",
   "execution_count": 44,
   "id": "a2f07682",
   "metadata": {},
   "outputs": [],
   "source": [
    "my_list=['dhoni','rohit',2,4,8]"
   ]
  },
  {
   "cell_type": "code",
   "execution_count": 45,
   "id": "d2be72cb",
   "metadata": {},
   "outputs": [],
   "source": [
    "del my_list"
   ]
  },
  {
   "cell_type": "code",
   "execution_count": 46,
   "id": "6b67bcb5",
   "metadata": {},
   "outputs": [
    {
     "ename": "NameError",
     "evalue": "name 'my_list' is not defined",
     "output_type": "error",
     "traceback": [
      "\u001b[1;31m---------------------------------------------------------------------------\u001b[0m",
      "\u001b[1;31mNameError\u001b[0m                                 Traceback (most recent call last)",
      "\u001b[1;32m<ipython-input-46-9af163499740>\u001b[0m in \u001b[0;36m<module>\u001b[1;34m\u001b[0m\n\u001b[1;32m----> 1\u001b[1;33m \u001b[0mmy_list\u001b[0m\u001b[1;33m\u001b[0m\u001b[1;33m\u001b[0m\u001b[0m\n\u001b[0m",
      "\u001b[1;31mNameError\u001b[0m: name 'my_list' is not defined"
     ]
    }
   ],
   "source": [
    "my_list"
   ]
  },
  {
   "cell_type": "code",
   "execution_count": 48,
   "id": "77f07403",
   "metadata": {},
   "outputs": [
    {
     "data": {
      "text/plain": [
       "('dhoni', 'kohli', 'kohli', '5')"
      ]
     },
     "execution_count": 48,
     "metadata": {},
     "output_type": "execute_result"
    }
   ],
   "source": [
    "var=(\"dhoni\",\"kohli\",\"kohli\",\"5\")\n",
    "var"
   ]
  },
  {
   "cell_type": "code",
   "execution_count": 50,
   "id": "4c954eef",
   "metadata": {},
   "outputs": [
    {
     "data": {
      "text/plain": [
       "2"
      ]
     },
     "execution_count": 50,
     "metadata": {},
     "output_type": "execute_result"
    }
   ],
   "source": [
    "var.count(\"kohli\")"
   ]
  },
  {
   "cell_type": "code",
   "execution_count": 53,
   "id": "12fcb8c7",
   "metadata": {},
   "outputs": [
    {
     "data": {
      "text/plain": [
       "4"
      ]
     },
     "execution_count": 53,
     "metadata": {},
     "output_type": "execute_result"
    }
   ],
   "source": [
    "len(var)"
   ]
  },
  {
   "cell_type": "code",
   "execution_count": 54,
   "id": "585d20d4",
   "metadata": {},
   "outputs": [
    {
     "data": {
      "text/plain": [
       "tuple"
      ]
     },
     "execution_count": 54,
     "metadata": {},
     "output_type": "execute_result"
    }
   ],
   "source": [
    "type(var)"
   ]
  },
  {
   "cell_type": "code",
   "execution_count": 55,
   "id": "8161347e",
   "metadata": {},
   "outputs": [
    {
     "data": {
      "text/plain": [
       "('dhoni', 'sid')"
      ]
     },
     "execution_count": 55,
     "metadata": {},
     "output_type": "execute_result"
    }
   ],
   "source": [
    "a=\"dhoni\",\"sid\"\n",
    "a"
   ]
  },
  {
   "cell_type": "code",
   "execution_count": 56,
   "id": "f2eeda85",
   "metadata": {},
   "outputs": [
    {
     "data": {
      "text/plain": [
       "tuple"
      ]
     },
     "execution_count": 56,
     "metadata": {},
     "output_type": "execute_result"
    }
   ],
   "source": [
    "type(a)"
   ]
  },
  {
   "cell_type": "code",
   "execution_count": 61,
   "id": "cf4940b8",
   "metadata": {},
   "outputs": [
    {
     "data": {
      "text/plain": [
       "tuple"
      ]
     },
     "execution_count": 61,
     "metadata": {},
     "output_type": "execute_result"
    }
   ],
   "source": [
    "b=(\"Cool\",)\n",
    "type(b)"
   ]
  },
  {
   "cell_type": "code",
   "execution_count": 62,
   "id": "94987e44",
   "metadata": {},
   "outputs": [
    {
     "name": "stdout",
     "output_type": "stream",
     "text": [
      "('dhoni', 'sid', 'Cool')\n"
     ]
    }
   ],
   "source": [
    "print(a+b)"
   ]
  },
  {
   "cell_type": "code",
   "execution_count": null,
   "id": "6718b269",
   "metadata": {},
   "outputs": [],
   "source": []
  }
 ],
 "metadata": {
  "kernelspec": {
   "display_name": "Python 3",
   "language": "python",
   "name": "python3"
  },
  "language_info": {
   "codemirror_mode": {
    "name": "ipython",
    "version": 3
   },
   "file_extension": ".py",
   "mimetype": "text/x-python",
   "name": "python",
   "nbconvert_exporter": "python",
   "pygments_lexer": "ipython3",
   "version": "3.8.8"
  }
 },
 "nbformat": 4,
 "nbformat_minor": 5
}
